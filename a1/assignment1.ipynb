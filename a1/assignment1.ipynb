{
  "nbformat": 4,
  "nbformat_minor": 0,
  "metadata": {
    "colab": {
      "provenance": []
    },
    "kernelspec": {
      "name": "python3",
      "display_name": "Python 3"
    },
    "language_info": {
      "name": "python"
    }
  },
  "cells": [
    {
      "cell_type": "code",
      "execution_count": 1,
      "metadata": {
        "colab": {
          "base_uri": "https://localhost:8080/"
        },
        "id": "H1UAJcnzdMxF",
        "outputId": "290a1d16-e775-4ebf-ec16-730c361a3153"
      },
      "outputs": [
        {
          "output_type": "stream",
          "name": "stderr",
          "text": [
            "[nltk_data] Downloading package reuters to /root/nltk_data...\n"
          ]
        }
      ],
      "source": [
        "import sys\n",
        "assert sys.version_info[0]==3\n",
        "assert sys.version_info[1] >= 5\n",
        "\n",
        "from platform import python_version\n",
        "assert int(python_version().split(\".\")[1]) >= 5, \"Please upgrade your Python version following the instructions in \\\n",
        "    the README.txt file found in the same directory as this notebook. Your Python version is \" + python_version()\n",
        "\n",
        "from gensim.models import KeyedVectors\n",
        "from gensim.test.utils import datapath\n",
        "import pprint\n",
        "import matplotlib.pyplot as plt\n",
        "plt.rcParams['figure.figsize'] = [10, 5]\n",
        "import nltk\n",
        "nltk.download('reuters') #to specify download location, optionally add the argument: download_dir='/specify/desired/path/'\n",
        "from nltk.corpus import reuters\n",
        "import numpy as np\n",
        "import random\n",
        "import scipy as sp\n",
        "from sklearn.decomposition import TruncatedSVD\n",
        "from sklearn.decomposition import PCA\n",
        "\n",
        "START_TOKEN = '<START>'\n",
        "END_TOKEN = '<END>'\n",
        "\n",
        "np.random.seed(0)\n",
        "random.seed(0)"
      ]
    },
    {
      "cell_type": "code",
      "source": [
        "def read_corpus(category=\"grain\"):\n",
        "    \"\"\" Read files from the specified Reuter's category.\n",
        "        Params:\n",
        "            category (string): category name\n",
        "        Return:\n",
        "            list of lists, with words from each of the processed files\n",
        "    \"\"\"\n",
        "    files = reuters.fileids(category)\n",
        "    return [[START_TOKEN] + [w.lower() for w in list(reuters.words(f))] + [END_TOKEN] for f in files]"
      ],
      "metadata": {
        "id": "Kw8hiavydtnA"
      },
      "execution_count": 2,
      "outputs": []
    },
    {
      "cell_type": "code",
      "source": [
        "reuters_corpus = read_corpus()\n",
        "pprint.pprint(reuters_corpus[:3], compact=True, width=100)"
      ],
      "metadata": {
        "colab": {
          "base_uri": "https://localhost:8080/"
        },
        "id": "7N2f25VQWXFC",
        "outputId": "41980f9b-f56a-451c-b7ae-4405298946bd"
      },
      "execution_count": 3,
      "outputs": [
        {
          "output_type": "stream",
          "name": "stdout",
          "text": [
            "[['<START>', 'china', 'daily', 'says', 'vermin', 'eat', '7', '-', '12', 'pct', 'grain', 'stocks',\n",
            "  'a', 'survey', 'of', '19', 'provinces', 'and', 'seven', 'cities', 'showed', 'vermin', 'consume',\n",
            "  'between', 'seven', 'and', '12', 'pct', 'of', 'china', \"'\", 's', 'grain', 'stocks', ',', 'the',\n",
            "  'china', 'daily', 'said', '.', 'it', 'also', 'said', 'that', 'each', 'year', '1', '.', '575',\n",
            "  'mln', 'tonnes', ',', 'or', '25', 'pct', ',', 'of', 'china', \"'\", 's', 'fruit', 'output', 'are',\n",
            "  'left', 'to', 'rot', ',', 'and', '2', '.', '1', 'mln', 'tonnes', ',', 'or', 'up', 'to', '30',\n",
            "  'pct', ',', 'of', 'its', 'vegetables', '.', 'the', 'paper', 'blamed', 'the', 'waste', 'on',\n",
            "  'inadequate', 'storage', 'and', 'bad', 'preservation', 'methods', '.', 'it', 'said', 'the',\n",
            "  'government', 'had', 'launched', 'a', 'national', 'programme', 'to', 'reduce', 'waste', ',',\n",
            "  'calling', 'for', 'improved', 'technology', 'in', 'storage', 'and', 'preservation', ',', 'and',\n",
            "  'greater', 'production', 'of', 'additives', '.', 'the', 'paper', 'gave', 'no', 'further',\n",
            "  'details', '.', '<END>'],\n",
            " ['<START>', 'thai', 'trade', 'deficit', 'widens', 'in', 'first', 'quarter', 'thailand', \"'\", 's',\n",
            "  'trade', 'deficit', 'widened', 'to', '4', '.', '5', 'billion', 'baht', 'in', 'the', 'first',\n",
            "  'quarter', 'of', '1987', 'from', '2', '.', '1', 'billion', 'a', 'year', 'ago', ',', 'the',\n",
            "  'business', 'economics', 'department', 'said', '.', 'it', 'said', 'janunary', '/', 'march',\n",
            "  'imports', 'rose', 'to', '65', '.', '1', 'billion', 'baht', 'from', '58', '.', '7', 'billion',\n",
            "  '.', 'thailand', \"'\", 's', 'improved', 'business', 'climate', 'this', 'year', 'resulted', 'in',\n",
            "  'a', '27', 'pct', 'increase', 'in', 'imports', 'of', 'raw', 'materials', 'and', 'semi', '-',\n",
            "  'finished', 'products', '.', 'the', 'country', \"'\", 's', 'oil', 'import', 'bill', ',', 'however',\n",
            "  ',', 'fell', '23', 'pct', 'in', 'the', 'first', 'quarter', 'due', 'to', 'lower', 'oil', 'prices',\n",
            "  '.', 'the', 'department', 'said', 'first', 'quarter', 'exports', 'expanded', 'to', '60', '.', '6',\n",
            "  'billion', 'baht', 'from', '56', '.', '6', 'billion', '.', 'export', 'growth', 'was', 'smaller',\n",
            "  'than', 'expected', 'due', 'to', 'lower', 'earnings', 'from', 'many', 'key', 'commodities',\n",
            "  'including', 'rice', 'whose', 'earnings', 'declined', '18', 'pct', ',', 'maize', '66', 'pct', ',',\n",
            "  'sugar', '45', 'pct', ',', 'tin', '26', 'pct', 'and', 'canned', 'pineapples', 'seven', 'pct', '.',\n",
            "  'products', 'registering', 'high', 'export', 'growth', 'were', 'jewellery', 'up', '64', 'pct',\n",
            "  ',', 'clothing', '57', 'pct', 'and', 'rubber', '35', 'pct', '.', '<END>'],\n",
            " ['<START>', 'sri', 'lanka', 'gets', 'usda', 'approval', 'for', 'wheat', 'price', 'food',\n",
            "  'department', 'officials', 'said', 'the', 'u', '.', 's', '.', 'department', 'of', 'agriculture',\n",
            "  'approved', 'the', 'continental', 'grain', 'co', 'sale', 'of', '52', ',', '500', 'tonnes', 'of',\n",
            "  'soft', 'wheat', 'at', '89', 'u', '.', 's', '.', 'dlrs', 'a', 'tonne', 'c', 'and', 'f', 'from',\n",
            "  'pacific', 'northwest', 'to', 'colombo', '.', 'they', 'said', 'the', 'shipment', 'was', 'for',\n",
            "  'april', '8', 'to', '20', 'delivery', '.', '<END>']]\n"
          ]
        }
      ]
    },
    {
      "cell_type": "code",
      "source": [
        "size = -1\n",
        "sum = 0\n",
        "dict1 = {}\n",
        "list1 = []\n",
        "for values in reuters_corpus:\n",
        "  for value in values:\n",
        "    dict1[value] = 1\n",
        "for key, value in dict1.items():\n",
        "  list1.append(key)\n",
        "print(len(dict1))\n",
        "print(list1)"
      ],
      "metadata": {
        "colab": {
          "base_uri": "https://localhost:8080/"
        },
        "id": "sCAuV6PKbUwI",
        "outputId": "64d165c1-5146-4d70-c7a3-fa03fd843f51"
      },
      "execution_count": 4,
      "outputs": [
        {
          "output_type": "stream",
          "name": "stdout",
          "text": [
            "7146\n",
            "['<START>', 'china', 'daily', 'says', 'vermin', 'eat', '7', '-', '12', 'pct', 'grain', 'stocks', 'a', 'survey', 'of', '19', 'provinces', 'and', 'seven', 'cities', 'showed', 'consume', 'between', \"'\", 's', ',', 'the', 'said', '.', 'it', 'also', 'that', 'each', 'year', '1', '575', 'mln', 'tonnes', 'or', '25', 'fruit', 'output', 'are', 'left', 'to', 'rot', '2', 'up', '30', 'its', 'vegetables', 'paper', 'blamed', 'waste', 'on', 'inadequate', 'storage', 'bad', 'preservation', 'methods', 'government', 'had', 'launched', 'national', 'programme', 'reduce', 'calling', 'for', 'improved', 'technology', 'in', 'greater', 'production', 'additives', 'gave', 'no', 'further', 'details', '<END>', 'thai', 'trade', 'deficit', 'widens', 'first', 'quarter', 'thailand', 'widened', '4', '5', 'billion', 'baht', '1987', 'from', 'ago', 'business', 'economics', 'department', 'janunary', '/', 'march', 'imports', 'rose', '65', '58', 'climate', 'this', 'resulted', '27', 'increase', 'raw', 'materials', 'semi', 'finished', 'products', 'country', 'oil', 'import', 'bill', 'however', 'fell', '23', 'due', 'lower', 'prices', 'exports', 'expanded', '60', '6', '56', 'export', 'growth', 'was', 'smaller', 'than', 'expected', 'earnings', 'many', 'key', 'commodities', 'including', 'rice', 'whose', 'declined', '18', 'maize', '66', 'sugar', '45', 'tin', '26', 'canned', 'pineapples', 'registering', 'high', 'were', 'jewellery', '64', 'clothing', '57', 'rubber', '35', 'sri', 'lanka', 'gets', 'usda', 'approval', 'wheat', 'price', 'food', 'officials', 'u', 'agriculture', 'approved', 'continental', 'co', 'sale', '52', '500', 'soft', 'at', '89', 'dlrs', 'tonne', 'c', 'f', 'pacific', 'northwest', 'colombo', 'they', 'shipment', 'april', '8', '20', 'delivery', 'japan', 'ministry', 'open', 'farm', 'would', 'hit', 'angered', 'by', 'demands', 'market', 'will', 'tell', 'talks', 'later', 'month', 'liberalisation', 'harm', 'existing', 'senior', 'official', '\"', 'drop', 'active', 'sales', 'drives', 'other', 'suppliers', ',\"', 'who', 'be', 'named', 'is', 'largest', 'customer', 'not', 'reasonable', 'demand', 'liberalise', 'he', 'minister', 'mutsuki', 'kato', 'has', 'if', 'insists', 'protected', 'where', 'volume', 'origin', 'regulated', 'protect', 'local', 'farmers', 'australia', 'canada', 'could', 'then', 'their', 'as', 'more', 'competitive', '.,', 'end', 'users', 'buy', 'origins', 'traders', 'secretary', 'richard', 'lyng', 'visit', '16', 'ask', 'offer', 'share', 'remove', 'quotas', 'beef', 'citrus', 'countries', 'already', 'cutting', 'into', 'here', 'supplier', 'been', 'trying', 'boost', 'prior', 'expiry', 'four', 'accord', 'next', '31', 'corn', 'have', 'fallen', 'increased', 'south', 'america', 'while', 'japanese', 'soybean', 'brazil', 'rise', 'sharply', 'although', 'remain', 'feedgrain', 'opens', 'since', 'depends', 'almost', 'entirely', 'mainly', 'an', 'indication', 'position', 'came', 'last', 'december', 'when', 'under', 'daniel', 'amstutz', 'potential', 'provide', 'one', 'boosts', 'agricultural', 'with', 'alone', 'representing', 'some', 'new', 'asked', 'general', 'agreement', 'tariffs', 'investigate', 'legality', 'controls', 'juices', 'purees', 'pulp', 'tomato', 'juice', 'ketchup', 'sauce', 'peanuts', 'prepared', 'miscellaneous', 'beans', 'help', 'calm', 'heated', 'relations', 'top', 'group', 'keidanren', 'urged', 'residual', 'restrictions', 'but', 'ruled', 'out', 'any', 'emotional', 'reaction', 'issue', 'should', 'become', 'scapegoat', 'pressure', 'industrial', 'sector', 'buyer', 'these', 'issues', 'discussed', 'same', 'table', 'zambia', 'does', 'plan', 'retail', 'hike', 'zambian', 'immediate', 'plans', 'follow', 'week', 'producer', 'meal', 'ruling', 'party', '120', 'consumer', 'refined', 'staple', 'led', 'riots', 'which', 'least', '15', 'people', 'died', 'president', 'kenneth', 'kaunda', 'revoked', 'followed', 'international', 'monetary', 'fund', '(', 'imf', ')', 'subsidy', '10', '67', 'per', '90', 'kg', 'bag', 'accompanied', 'spend', 'subsidies', 'practice', 'discouraged', 'there', 'way', 'raise', 'levels', 'choose', 'those', 'economist', 'argentine', 'coarse', 'losses', 'feared', 'producers', 'adjusted', 'yield', 'estimates', '1986', '87', 'crop', 'downward', 'yesterday', 'after', 'heavy', 'rains', 'beginning', 'sources', 'sunflower', 'sorghum', 'reduced', 'despite', 'warm', 'dry', 'weather', 'allowed', 'return', 'harvesting', 'areas', 'showers', 'intermittently', 'weekend', 'another', 'spell', 'prolonged', 'intense', 'rain', 'cause', 'damage', 'crops', 'badly', 'season', 'middle', 'reached', 'average', 'millimetres', 'parts', 'buenos', 'aires', 'province', '83', 'mm', 'cordoba', '41', 'santa', 'fe', '50', 'entre', 'rios', 'misiones', '95', 'corrientes', 'eight', 'chaco', 'formosa', 'rainfall', 'period', 'la', 'pampa', 'continued', 'damp', 'conditions', 'produce', 'rotting', 'lead', 'still', 'all', 'lands', 'began', 'drying', 'advanced', 'considerably', 'reaching', '36', '40', 'area', 'sown', 'case', 'deterioration', 'evident', 'harvested', 'material', 'forced', 'hectare', 'down', 'again', 'sunflowerseed', 'now', 'forecast', '3', 'against', '43', '9', '48', '1985', '86', 'record', 'sunflowers', 'two', 'hectares', '29', 'below', '14', 'near', 'completion', 'begin', 'southern', 'estimated', 'previously', '22', 'private', '21', 'figure', '78', '85', 'harvest', 'start', 'mid', 'total', 'compared', 'three', 'remaining', 'higher', 'soybeans', '13', '34', 'showing', 'excessive', 'moisture', 'fear', 'may', 'discover', 'experimental', 'carried', 'making', 'only', 'about', 'available', 'preparation', 'fields', '88', 'august', 'september', 'so', 'far', 'previous', 'years', 'honduras', 'seeking', 'pl', '480', 'bulk', 'tender', 'public', 'law', 'approximately', 'various', 'wheats', 'agent', 'better', 'northern', 'spring', 'dns', 'protein', 'minimum', 'maximum', 'hard', 'red', 'winter', 'ns', 'laydays', 'include', 'july', 'aug', '000', 'sept', 'hrw', 'june', 'offers', '1550', 'hrs', 'edt', 'valid', 'until', '1000', 'faces', 'problems', 'likely', 'result', 'five', 'spokesman', 'leonardo', 'brito', 'speaking', 'brasilia', 'told', 'reuters', 'believed', 'lost', 'part', 'normal', 'loss', 'inevitable', 'most', 'stem', 'capacity', 'theoretically', 'sufficient', 'distributed', 'states', 'sao', 'paulo', 'parana', 'rio', 'grande', 'do', 'sul', 'them', '70', 'nation', 'responsible', 'biggest', 'concentrated', 'centre', 'west', 'growing', 'regions', 'rising', 'outpaced', 'soya', 'grains', 'space', 'addition', 'poor', 'distribution', 'units', 'problem', 'too', 'much', 'geared', 'storing', 'sacks', 'enough', 'suitable', 'loose', 'finally', 'shortage', 'lorries', 'transport', 'sheer', 'scale', 'task', 'transporting', 'television', 'reports', 'shown', 'enormous', 'queues', 'waiting', 'outside', 'granaries', 'tunisia', 'french', '100', 'covered', 'credit', 'agency', 'coface', 'credits', 'announced', 'yet', 'france', 'sold', '200', 'begining', 'current', 'campaign', 'amount', '150', 'exported', 'ccc', 'accepts', 'bid', 'flour', 'iraq', 'commodity', 'corporation', 'accepted', 'bonus', 'cover', 'awarded', '113', '0', 'paid', 'peavey', 'company', 'form', 'additional', '162', 'enhancement', 'program', 'initiative', 'january', 'egypt', 'authorized', 'purchase', 'valued', 'ship', 'ports', 'korea', 'past', 'six', 'months', '--', 'close', 'double', 'indicates', 'united', 'well', 'set', 'dramatic', 'jump', 'world', 'report', 'oct', 'during', 'totaled', 'ite', 'appears', 'koreans', 'shifting', 'back', 'light', 'uncertain', 'supplies', 'argentina', 'africa', 'seeks', 'comments', 'discount', 'schedule', 'question', 'adjusting', 'premium', 'schedules', 'improve', 'quality', 'loan', 'collateral', 'support', 'programs', 'premiums', 'discounts', 'based', 'factors', 'such', 'content', 'kernel', 'stipulates', 'used', 'valuing', 'purchases', 'possible', 'encouraged', '24', 'congress', 'required', 'discussing', 'morocco', 'currently', 'amendment', 'signed', 'mix', 'determined', 'noted', 'provided', 'supply', '55', 'vegetable', '126', 'fiscal', 'ending', 'authorizations', 'comment', 'newspaper', 'agreed', 'hold', 'closed', 'gatt', 'round', 'we', 'idea', 'cannot', 'nihon', 'keizai', 'shinbun', 'quoting', 'unnamed', 'representative', 'clayton', 'yeutter', 'intentions', 'pressing', 'discuss', 'right', 'forum', 'banned', 'foodstuff', 'control', 'act', 'worries', 'mounting', 'tension', 'try', 'persuade', 'policy', 'justified', '93', 'body', 'uruguay', 'take', 'negotiate', 'threatened', 'pests', 'disease', 'destroyed', 'threatening', '11', '54', 'affected', 'abnormal', 'spread', 'midges', '47', 'shanxi', 'henan', 'sichuan', 'anhui', 'hebei', 'jiangsu', 'shandong', 'aphids', 'affecting', 'mite', 'powdery', 'mildew', 'fao', 'sees', 'global', 'n', 'organisation', 'fall', 'adequate', 'meet', 'monthly', 'outlook', 'bulletin', '38', '353', 'unusually', 'soviet', 'union', 'drought', 'plantings', 'north', 'cereal', '452', 'softening', 'impact', 'unevenly', 'held', 'thus', 'security', 'prospects', 'developing', 'particularly', 'depend', 'crucially', 'outcome', 'harvests', 'large', '865', 'cereals', 'revised', 'upwards', '179', 'likelihood', 'substantial', 'buying', 'rpt', 'oilseed', 'board', 'fob', 'brackets', 'follows', ':', '63', '),', 'cake', 'expellers', '103', '102', 'pellets', '101', '99', '98', 'linseed', '274', '264', 'groundnutseed', '450', '445', '300', '290', 'rapeseed', '280', ').', 'through', '323', '313', 'onwards', '330', '320', 'taxes', 'levied', 'bran', 'pollard', '42', '44', 'london', 'freight', 'features', 'moderately', 'fixing', 'reported', 'none', 'involved', 'significant', 'voyages', 'continent', 'brokers', 'steady', 'gulf', 'long', 'tons', 'taiwan', 'vessel', 'carrying', 'bagged', 'aqaba', 'received', 'lump', 'sum', '472', 'great', 'lakes', 'algeria', 'made', '28', '75', 'similar', 'towards', 'talk', 'suggested', 'federal', 'commerce', 'booked', 'move', 'comanav', 'account', 'cargo', 'oilseeds', 'british', 'columbia', 'confirmation', 'obtainable', 'shippers', 'pallice', 'buenaventura', 'ghent', 'naples', 'venice', 'range', 'elsewhere', 'east', 'charterers', 'reappeared', 'timecharter', 'secured', 'tonner', 'savona', 'trans', 'atlantic', 'trip', 'antwerp', 'hamburg', 'voyage', '250', 'india', 'foodgrain', 'target', '160', 'fixed', 'apr', 'mar', 'unchanged', 'annual', 'actual', '151', 'failure', 'monsoon', 'meterological', 'sub', 'divisions', 'targets', 'following', '49', 'millets', '32', 'pulses', 'recent', 'maintain', 'signifying', 'resilience', 'strategy', 'increasing', 'irrigation', 'along', 'use', 'yielding', 'seed', 'varieites', 'improvement', 'fertiliser', 'efficiency', 'results', 'adding', '1984', '1983', '84', 'respectively', '145', '152', 'targeted', '178', '183', 'foodgrains', 'seventh', 'development', '1990', 'taking', 'midpoint', '180', 'around', 'gap', 'annually', 'nine', 'can', 'achieved', 'good', 'major', 'thrust', 'therefore', 'water', 'management', 'simultaneously', 'efforts', 'timely', 'inputs', 'like', 'fertilisers', 'quantities', 'vigrously', 'pursued', 'buys', 'bought', '125', '723', 'included', '51', '880', '73', '843', 'belt', 'temperatures', 'centigrade', 'hours', '00', 'gmt', '...............', 'max', 'temp', '..', 'min', '.......', '............', 'bahia', 'blanca', '........', 'tres', 'arroyos', 'tandil', '.............', 'junin', '..............', 'rosa', '.........--........', '...........', '17', 'reuter', 'yugoslavia', 'counselor', 'belgrade', 'field', 'dated', 'must', 'europe', 'considered', 'rebuild', 'reserves', 'subject', 'surcharges', 'free', 'bids', 'detailed', 'operators', 'requested', 'licences', 'barley', '225', 'bread', 'feed', 'today', 'ec', 'rebates', '138', '141', 'european', 'currency', 'ecus', 'sought', '129', '139', '142', '130', '131', '105', 'authorises', 'rebate', 'brussels', 'grants', 'commission', 'authorised', 'rejected', 'breadmaking', 'yields', 'seen', 'travel', 'brazilian', 'state', 'officer', 'accounts', 'generally', 'favorable', 'early', 'february', 'helped', 'compensate', 'earlier', 'dryness', 'hot', 'days', 'unseasonably', 'brief', 'cold', 'second', 'raised', 'concern', 'late', 'planted', 'immature', 'localized', 'create', 'serious', 'expense', 'above', 'truck', 'lines', 'elevators', 'preference', 'given', 'over', 'decline', 'reasons', 'summer', 'ships', 'orleans', 'ten', 'loading', 'load', 'elevator', 'westwego', 'mississippi', 'river', 'myrtle', 'grove', 'adm', 'growmark', 'bunge', 'destrehan', 'st', 'charles', 'reserve', 'corp', 'elmo', 'cargill', 'terre', 'haute', 'port', 'allen', 'zen', 'noh', 'intervention', 'stores', 'half', 'normally', 'committee', 'because', 'disturbance', 'guarantees', 'access', 'spanish', 'non', '201', 'seemed', 'unlikely', 'full', 'added', 'decision', 'designed', 'prevent', 'massive', 'just', 'ahead', 'deadline', 'caused', 'speculation', 'implementation', 'freights', 'usg', 'fio', 'banner', 'reference', 'york', 'say', 'cam', 'vamand', 'wave', 'cory', 'spain', 'enquiries', 'libya', 'mt', 'daps', 'guanta', '387', 'hss', 'naantali', 'saudi', 'sea', 'dunkirk', 'xingang', '700', 'toledo', 'seaforth', 'plate', 'malaysia', 'cancels', 'cancelled', 'egyptian', 'cancellation', 'islamic', '80', 'cost', 'undercutting', '94', 'paris', 'confirmed', 'refused', 'legal', 'denied', 'might', 'substituted', 'deal', 'original', 'ussr', 'vs', '210', '192', '240', 'bu', '848', '610', 'highlights', 'projections', 'seasons', 'bushels', 'comparisons', 'unless', '595', '040', 'projected', '375', '241', 'domestic', '680', 'usage', '255', '877', '905', '025', '915', '134', '045', 'cotton', 'lb', 'bales', '76', '96', '635', '536', 'crushings', '115', '053', '740', 'lbs', '360', '947', '350', '257', 'thousand', 'short', '270', '315', '212', '036', '008', 'adds', 'commitments', '175', '600', 'fourth', '.-', 'october', 'according', 'covering', 'transactions', 'ended', 'consisted', '140', 'changes', 'destinations', '825', 'soviets', 'purchased', 'carryover', 'feedgrains', 'loans', 'except', '04', '09', '03', 'regular', '678', '68', '800', '400', '589', 'special', '165', '163', '147', '92', 'put', 'class', 'breakdown', 'classes', '009', '717', '018', '230', 'ttl', 'x', '027', '599', '579', '543', '475', '395', '049', '054', '938', '978', '973', 'note', 'begins', 'includes', '498', '371', '451', '460', '956', '838', '218', '174', '190', '166', '418', '382', '340', '538', '574', '79', '368', '369', '432', '181', '193', '204', '149', '301', 'white', '198', '173', '232', '254', '433', '430', '82', '170', '252', '243', 'durum', '121', '221', '53', '97', '06', 'australian', '81', 'canadian', '62', '72', '71', 'net', 'change', 'cancellations', 'foreign', 'cumulative', 'prev', '119', '001', '900', '927', 'soy', '117', 'y', 'minus', 'running', 'indicated', 'totals', 'both', 'exporters', 'own', 'optional', 'plus', 'respective', 'marketing', 'cautions', 'outstanding', 'modification', 'deferral', 'breakdowns', 'stated', 'firm', 'declared', 'destination', 'b', 'ultimate', 'd', 'exporter', 'holds', 'option', 'fill', 'commitment', 'e', 'accumulated', 'data', 'g', 'add', 'rounding', 'wk', '157', '684', '591', '143', '144', 'o', 'nil', 'p', 'gr', '310', '837', '679', '692', 'ay', 'expd', '044', 'ind', '355', '271', 'usdaprj', '774', '780', '215', '524', '293', '245', '334', '627', '506', '050', '559', '772', '268', '945', '920', '734', '846', '296', '030', '750', '875', '805', '114', '094', '222', '363', '244', '720', '321', '401', '926', '840', '348', '242', 'bulgur', 'semolina', 'farina', 'rolled', 'cracked', 'crushed', '135', '154', '156', '788', '869', '866', '969', '098', '964', '850', '760', 'cottonseed', 'upland', '007', '076', '468', '457', '028', '096', '333', '361', '335', '584', '597', '622', 'expt', '464', '440', '061', '062', 'oats', '347', '370', '718', '688', '067', '058', '580', '738', '019', '893', '943', '107', '77', '818', '090', '020', 'exp', '332', '974', 'tl', '064', '548', '529', '616', '831', '757', '374', 'denotes', '576', '620', '164', '607', '637', '312', '247', '919', '885', '842', '727', '087', '127', '376', '133', '362', '726', '859', 'identified', 'thousands', '236', '261', '346', '490', '662', '910', 'asia', 'oceania', '654', '730', '959', '167', 'western', 'hemisphere', '367', '266', '260', '302', '317', '91', '499', '187', '354', '391', '37', '431', '767', '787', '495', '555', '791', '836', '390', '721', '615', '195', 'westhem', '484', '377', '39', '741', '783', '69', 'community', 'acreage', 'acres', '118', 'stock', '648', '253', '295', 'cont', '.)', '095', 'domest', '055', '496', 'farmer', 'reser', '564', '546', '795', '930', 'avgprice', 'stcks', '425', '690', '325', '159', '960', '950', '602', '423', '477', '870', 'avg', '08', 'bushel', '61', '59', '33', '316', '099', '415', '933', '908', '879', '05', '128', '111', 'yld', '379', '136', '176', '171', '169', '220', '211', '206', '632', '263', '617', 'crush', '060', 'cents', '558', '203', '951', '770', '338', 'thous', 'ton', '549', '553', '630', 'stks', 'census', 'bureau', '01', 'avge', 'weighted', 'projection', '414', 'cwts', '213', '124', 'cwt', 'rough', 'equivalent', 'revising', 'definition', '551', '942', '493', '420', '550', '605', '691', '830', '663', '941', '847', '625', '522', '184', '385', '521', '598', '729', 'domes', '485', '487', '545', '358', '168', '148', 'starting', 'broken', 'kernels', 'equal', '108', 'avgpric', 'medium', '651', '258', 'notes', 'tables', 'figures', 'exclude', 'cash', 'retained', 'african', 'seasonal', '398', '725', '063', '698', '194', '182', '510', '059', '763', 'reflect', 'estimate', 'situation', 'buyers', 'actively', 'purchasing', 'somewhat', 'surprising', 'suffered', 'severe', 'work', 'delayed', 'kill', 'analysts', 'maybe', 'reason', 'why', 'recently', 'moscow', 'jordan', 'issued', 'produc', '682', '686', '577', '343', '342', '137', '528', '517', '514', '488', 'balance', 'differing', 'transit', 'reporting', 'discrepancies', '835', '844', '07', '796', '793', '02', '226', '123', '481', '289', '286', '287', '444', '439', '419', '155', '74', 'time', 'lags', 'consumption', 'mill', 'milled', 'basis', '318', 'dom', '46', 'importers', 'activity', '112', 'eastern', 'bonuses', 'averaged', 'november', 'awards', 'louis', 'dreyfus', 'completes', 'registrations', 'preliminary', 'show', 'comparable', 'comparative', '161', '305', '561', 'pillsbury', 'portland', 'merchants', 'exchange', 'owned', 'day', 'natl', 'release', 'call', 'rate', 'level', 'iv', 'v', 'vi', 'rates', 'i', 'ii', 'iii', 'matured', 'reflects', 'entered', '1981', 'covers', 'latest', '503', 'reductions', 'fifths', 'combined', 'purchasers', 'mexico', 'fifth', 'nearly', 'third', 'italy', 'israel', 'increases', 'germany', 'venezuela', 'netherlands', 'arabia', 'partially', 'offset', 'unknown', 'decreases', 'dominant', 'zaire', 'primary', 'less', 'main', 'shipments', 'shipped', 'compares', '106', 'amounted', '808', '518', 'dollar', 'propel', 'broad', 'gains', 'gold', 'posted', 'solid', 'flurry', 'interest', 'kindled', 'fears', 'inflation', 'economic', 'instability', 'pronounced', 'jumped', '436', 'troy', 'ounce', 'silver', 'factor', 'behind', 'advance', 'anticipation', 'nations', 'halt', 'slide', 'value', 'steve', 'chronowitz', 'director', 'research', 'smith', 'barney', 'harris', 'upham', 'tumbled', 'finance', 'reaffirmed', 'bank', 'known', 'lack', 'ability', 'term', 'direction', 'markets', 'ideas', '.\"', 'looks', 'cure', 'let', 'values', 'force', 'our', 'trading', 'partners', 'stimulate', 'economies', 'measure', 'correct', 'think', 'believe', 'recourse', 'reflate', 'point', 'going', 'tedious', 'process', 'what', 'happening', 'falling', 'makes', 'cheaper', 'stimulating', 'holding', 'bonds', 'saw', 'investments', 'turning', 'precious', 'metals', 'hedge', 'marty', 'mcneill', 'analyst', 'house', 'dominick', 'metal', 'reverberated', 'throughout', 'livestock', 'chicago', 'attention', 'shifted', 'burdensome', 'live', 'hogs', 'frozen', 'pork', 'bellies', 'sharp', 'mercantile', 'cattle', 'several', 'boosted', 'hog', 'haven', 't', 'weight', 'busy', 'animals', 'review', 'quiet', 'wednesday', 'slightly', 'millet', 'birdseed', 'australs', '104', 'necochea', 'rosario', 'dropped', 'quoted', 'villa', 'constitucion', 'san', 'nicolas', 'puerto', 'alvear', '205', '652', 'concluded', 'weekly', '086', 'philippines', 'damages', 'damaged', 'plantations', 'central', '070', 'pesos', 'warned', 'prevailing', 'carlos', 'dominguez', 'hoped', 'productive', 'palay', 'unmilled', '820', 'hectarage', 'accounted', 'negligible', 'filled', 'traditional', 'farms', 'diversified', 'philippine', 'coconut', 'authority', 'producing', 'region', 'bicol', 'awb', 'chairman', 'urges', 'cut', 'lose', 'valuable', 'availability', 'coming', 'significantly', 'clinton', 'condon', 'predictions', 'decrease', 'prove', 'true', 'able', 'statement', 'did', 'industry', 'feeling', 'low', 'costs', 'sowing', 'realised', 'facing', 'financial', 'pressures', 'expects', 'final', 'planting', 'unable', 'needs', 'developed', 'effort', 'difficulty', 'selling', 'future', 'rely', 'understand', 'understanding', 'deliberate', 'wants', 'continue', 'income', 'earner', 'governments', 'authorities', 'need', 'closely', 'examine', 'ways', 'contributing', 'continuing', 'viability', 'leading', 'iran', 'raises', 'shelled', 'encourage', 'grow', 'commercial', 'yuan', 'expert', 'fen', 'jin', 'grained', 'inform', 'before', 'chinese', 'unwilling', 'earn', 'rotterdam', 'handler', 'graan', 'mij', 'gem', 'derivatives', '146', 'arrivals', '404', 'discharges', 'comprised', 'traffic', 'concerned', 'terminal', 'lowered', 'ascs', 'number', 'locations', 'kansas', 'city', 'texas', 'minneapolis', 'duluth', 'ralph', 'klopfenstein', 'deputy', 'administrator', 'operations', 'stabilization', 'conservation', 'service', 'denver', 'pickup', 'pik', 'roll', 'decided', 'upon', 'effective', 'meaning', 'commanding', 'bulgaria', 'romania', 'appear', 'assessment', 'extreme', 'plant', 'weeks', 'varied', 'greatly', 'seeded', 'optimum', 'especially', 'receiving', 'supplemental', 'observed', 'appeared', 'condition', 'little', 'evidence', 'winterkill', 'others', 'lacking', 'weak', 'uneven', 'stands', 'spotty', 'germination', 'expect', 'inspection', 'guesses', 'ranged', 'inspected', 'versus', 'guarantee', 'gsm', '469', 'eligible', 'coverage', 'line', 'registered', 'aid', 'imported', 'joint', 'rest', 'quota', 'extended', 'sixth', 'successive', 'profits', 'discourage', 'calendar', 'needed', 'breweries', 'washington', 'ease', 'protectionist', 'reporters', 'hideo', 'maki', 'affairs', 'telling', 'removal', 'meeting', 'opened', 'dicuss', 'replying', 'importer', 'depended', 'requirements', 'priority', 'complaints', 'self', 'sufficiency', 'surplus', 'suffers', 'surpluses', 'exporting', 'product', 'expensive', 'discussions', 'item', 'join', 'smuggled', 'worth', 'few', 'manila', 'nfa', 'corruption', 'among', 'customs', 'coast', 'guard', 'personnel', 'jeopardised', 'ban', 'aimed', 'saving', 'jig', 'tan', 'saying', 'stood', '331', 'inventory', '191', '732', 'contributed', 'linda', 'geraldez', 'statistician', 'becomes', 'guangdong', 'importing', 'millions', 'overseas', 'switched', 'profitable', 'peking', 'magazine', '1978', 'farmland', 'sugarcane', 'bananas', 'oranges', 'papaya', 'freshwater', 'fish', 'farming', 'hong', 'kong', 'macao', 'aims', 'keep', 'ratio', 'vary', 'place', 'primitive', 'cultivation', 'labour', 'intensity', 'productivity', 'make', 'gradually', 'reform', 'entire', 'pricing', 'system', 'surprise', 'premature', 'onic', 'association', 'cooperatives', 'institute', 'itcf', 'released', 'extremely', 'difficult', 'stage', 'within', 'maghreb', 'agpm', 'cuts', 'troops', 'patrol', 'copperbelt', 'minor', 'essential', 'police', 'patrolled', 'outbreaks', 'rioting', 'foods', 'provoke', 'trouble', 'disgruntled', 'elements', 'sweeping', 'observers', 'capital', 'expressed', 'disillusionment', 'small', 'extent', 'items', 'blankets', 'soap', 'detergents', 'baby', 'residents', 'contacted', 'telephone', 'forces', 'roadblocks', 'towns', 'lusaka', 'went', 'usual', 'sign', 'reinforcements', 'streets', 'ordered', 'revaluation', 'kwacha', 'dlr', 'formed', 'go', 'adopted', 'replace', 'austerity', 'leaders', 'gangs', 'unemployed', 'youths', 'being', 'politically', 'volatile', 'action', 'shops', 'fifteen', 'killed', 'tried', 'lift', 'oklahoma', 'cleaning', 'floods', 'returned', 'homes', 'flooding', 'dead', 'evacuated', 'civil', 'defense', 'shelters', 'washita', 'rivers', 'see', 'decades', 'gov', 'henry', 'bellmon', 'thursday', 'emergency', 'reagan', 'disaster', 'relief', 'tornadoes', 'friday', 'twister', 'lubbock', 'mobile', 'houses', 'injuries', 'tenders', 'pakistan', 'inspections', '209', 'reallocated', 'undesignated', 'zero', 'deapartment', 'prepares', 'fiji', 'geelong', 'capitaine', 'wallis', 'dwt', 'berthed', 'victoria', 'urgently', 'unions', 'partly', 'lifted', 'embargo', 'shipping', 'loaded', 'tomorrow', 'bomb', 'threats', 'strikes', 'welcomed', 'imposed', 'labor', 'supporters', 'ousted', 'prime', 'timoci', 'bavadra', 'renewed', 'his', 'reinstatement', 'shop', 'closures', 'waterside', 'workers', 'federation', 'newly', 'elected', 'overthrown', 'military', 'coup', 'shortages', 'fresh', 'medicines', 'direct', 'nadi', 'lautoka', 'center', 'evacuation', 'westpac', 'turned', 'hoax', 'disobedience', 'press', 'italian', 'shortly', 'information', 'irvam', 'consignments', 'excellent', 'characterised', 'alternating', 'periods', 'sunshine', 'sardinia', 'favourable', 'continues', 'reach', 'panel', 'votes', 'speed', 'payments', 'voted', 'deficiency', 'immediately', 'instead', 'decisively', 'defeated', 'senate', 'floor', 'passed', 'voice', 'vote', 'allow', 'called', 'findley', 'rather', 'changed', 'spending', '1988', 'stiff', 'resistance', 'bouses', 'shiments', 'annnounced', 'sets', 'provision', 'reduction', 'enrolled', 'even', 'though', 'assistance', 'types', 'prevented', 'natural', 'operate', 'bases', 'permitted', 'enroll', 'signing', 'informed', 'offices', 'applications', 'preventedf', 'intended', 'disasters', 'occured', 'located', 'county', 'home', 'administration', 'occurred', 'senegal', 'highly', 'reception', 'trial', 'batch', 'baked', 'senegalese', 'ready', 'tranche', 'mixed', 'opposition', 'millers', 'accustomed', 'delaying', 'deliveries', 'series', 'baking', 'seminars', 'satisfy', 'convince', 'qualities', 'track', 'dominate', 'mostly', 'manitoba', 'widespread', 'soaking', 'aided', 'across', 'precipitation', 'replenished', 'formerly', 'soil', 'rated', 'virtually', 'complete', 'southwest', 'germinated', 'subsequent', 'tillering', 'emerged', 'alberta', 'seeding', 'ninety', 'northeastern', 'pool', 'lacked', 'patchy', 'best', 'very', 'peace', 'compound', 'marginal', 'reflected', 'slight', 'poultry', 'raising', 'moderate', 'totalled', '217', '554', '224', 'yen', 'strength', 'compounding', 'marginally', 'makers', 'reluctant', '563', '889', 'indonesia', 'rejects', 'proposals', 'recommendations', 'reforms', 'economy', 'donors', 'met', 'consider', 'giving', 'achmad', 'affandi', 'written', 'remarks', 'donor', 'hague', 'argument', 'presented', 'view', 'overhauls', 'how', 'manages', 'stagnating', 'subsisides', 'peaked', 'money', 'replied', 'provides', 'workforce', 'fertilizer', 'distributors', 'assisting', 'majority', 'indonesian', 'recommendation', 'strategic', 'critical', 'drive', 'inefficiencies', 'save', 'arguments', 'barriers', 'monopolies', 'develop', 'budget', 'pact', 'funds', 'negotiators', 'overall', 'congressional', 'compromise', '1989', 'presents', 'committees', 'choices', 'achieve', 'savings', 'without', 'jeopardizing', 'popular', 'aides', 'lawmakers', 'manuevering', 'find', 'rep', 'dan', 'glickman', 'kan', 'subcommittee', 'introduced', 'freeze', 'kika', 'de', 'garza', 'proposal', 'republican', 'strong', 'stance', 'freezing', 'send', 'wrong', 'signal', 'competitors', 'claims', 'arp', 'taken', 'stand', 'arguing', 'office', 'omb', 'lobbyists', 'prevail', 'source', 'singling', 'unfair', 'eventually', 'look', 'tightening', 'payment', 'limitation', 'rules', 'adoption', 'portion', 'ultimately', 'apply', 'gramm', 'rudman', 'hollings', 'applied', 'american', 'afbf', 'fairest', 'approach', 'size', 'german', 'acceptable', 'originally', 'poland', 'tranches', 'licence', 'requests', '083', 'senator', 'defends', 'mandatory', 'sen', 'tom', 'harkin', 'iowa', 'defended', 'controversial', 'referendum', 'whether', 'approve', 'effect', 'strict', 'present', 'effectively', 'seek', 'sharing', 'cartel', 'hearings', 'examining', 'testimony', 'family', 'supports', 'ruin', 'critics', 'claim', 'revenue', 'done', 'christopher', 'bond', 'r', 'mo', 'countered', 'hearing', 'workable', 'acknowledged', 'onto', 'consumers', 'gouging', 'processing', 'companies', 'cited', 'termed', 'returns', 'equity', 'kellogg', 'monfort', 'nabisco', 'conagra', 'h', 'j', 'heinz', 'ralston', 'purina', 'quaker', 'legitimate', 'transition', 'thereafter', 'benefit', 'predictable', 'stable', 'participation', 'participate', 'order', 'receive', 'bangladesh', 'navy', 'unloads', 'strike', 'unloading', 'chittagong', 'dockworkers', 'vessels', 'laden', 'outer', 'anchorage', 'agree', 'pay', 'benefits', 'started', 'dislocation', 'meanwhile', 'jobs', 'strikers', 'dismissed', 'soon', 'head', 'tetsuo', 'kondo', 'planning', 'epa', 'cabinet', 'council', 'advisory', 'usually', 'ghana', 'lifts', 'news', 'gna', 'kwesi', 'botchwey', 'announcement', 'night', 'accepting', '891', 'lifting', 'implications', 'predicted', 'cassava', 'consequences', 'nowhere', 'experiences', '1982', 'steps', 'alleviate', 'anticipated', 'shortfalls', 'seriously', 'drinking', 'fishing', 'volta', 'dried', 'disrupts', 'ministers', 'package', 'come', 'uncertainty', 'remains', 'trader', 'permanent', 'avoided', 'agreemend', 'passes', 'seem', 'lessening', 'disruptive', 'delay', 'offered', 'starts', 'saskatchewan', 'deteriorate', 'northeast', 'summerfallow', 'fair', 'stubble', 'headed', 'rye', 'milk', 'flax', 'canola', 'winds', 'hail', 'tuesday', 'souffle', 'graniere', 'andre', 'companie', 'el', 'salvador', 'granted', 'meals', 'reduces', 'creates', 'completed', 'polish', 'rises', 'ranging', 'meat', 'ministries', 'procurement', 'rape', 'zloties', 'quintal', 'ensure', 'living', 'animal', 'feeds', 'tractors', 'danish', 'mean', 'test', 'represents', 'ratings', 'fodder', 'beets', 'brought', 'patterns', 'bring', 'welcome', 'dale', 'mohler', 'meteorologist', 'accu', 'inc', 're', 'fairly', 'wet', 'pattern', 'inch', 'minnesota', 'nebraska', 'inches', 'illinois', 'scattered', 'thundershower', 'indiana', 'ohio', 'thudershower', 'get', 'pretty', 'heavier', 'sparking', 'selloff', 'futures', 'off', 'front', 'midwest', 'assure', 'moves', 'crucial', 'pollination', '392', '641', '728', 'allows', 'pakistani', 'mahbubul', 'haq', 'televised', 'speech', 'duty', 'yarn', 'handled', 'exclusively', 'corporations', '1970s', 'ancillary', 'industries', 'enable', 'compete', 'overcome', 'unveils', 'freer', 'narrowing', 'yawning', 'textile', 'link', 'tea', 'meets', 'standing', 'reviewed', 'every', 'departure', 'announcing', 'policies', 'single', 'businessmen', 'strategies', 'longer', 'engineering', 'goods', 'selected', 'terms', 'cent', 'rationalise', 'streamline', 'specially', 'intermediate', 'suffering', 'want', 'necessary', 'produced', 'restrictive', 'smuggling', 'hampering', 'freed', 'largely', 'remittances', 'nationals', 'working', 'abroad', 'begun', 'spectre', 'crisis', './', 'slim', 'enter', 'bilateral', 'sides', 'agreeement', 'approaches', 'endanger', 'extends', 'pull', 'together', 'aide', 'undersecretary', 'couple', 'consultations', 'probably', 'doubt', 'citing', 'limited', 'uncertainties', 'variables', 'uncharacteristic', 'us', 'nonbinding', 'logistics', 'outlooks', 'tanzania', 'sells', 'malawi', 'mozambique', 'arranged', 'sell', 'radio', 'delivered', 'expecting', 'bumper', 'names', 'irri', 'scientist', 'klaus', 'lampe', 'succeeding', 'm', 'swaminathan', 'adviser', 'technical', 'cooperation', 'eschborn', 'former', 'section', 'concentrate', 'environmental', 'urgent', 'ma', 'summit', 'exclusive', 'interview', 'know', 'nothing', 'indicate', 'me', 'sort', ').\"', 'don', 'kind', 'topic', 'appropriate', 'discussion', 'specific', 'negotiations', 'mr', 'nikonov', 'communist', '...', 'something', 'presidential', 'unfinished', 'timing', 'questioned', 've', 'row', 'failed', 'love', 'doing', 'busines', 'questions', 'felt', 'benefitted', 'certainly', 'hasn', 'eep', 'indications', 'nov', 'dec', 'dates', 'postpones', 'postponed', 'scheduled', 'rumors', 'circulated', 'morning', 'dealer', 'agrees', 'entry', 'portugal', 'gain', 'rights', 'deals', 'study', 'withdrew', 'objections', 'ireland', 'oppose', 'dispute', 'substitutes', 'outvoted', 'particular', 'hilton', 'boneless', 'hake', 'fillets', 'levies', 'negotiated', 'resolve', 'certain', 'membership', 'arbitrate', 'unsatisfied', 'compensation', 'systems', 'fruits', 'leather', 'footwear', 'external', 'commissioner', 'willy', 'clercq', 'journalists', 'concessions', 'hope', 'secretariat', 'hiked', 'northwestern', 'monday', 'preparing', 'catalogue', 'containing', 'roughly', 'stored', 'terminals', 'comprise', 'date', 'tentative', 'snags', '080', 'appeals', 'romero', 'diplomatic', 'promised', 'tonnage', 'levy', 'decide', 'authorise', 'withhold', 'limits', 'breached', 'reply', 'soymeal', 'financing', 'crude', 'fiber', 'yellow', '1530', '1930', 'tendering', 'tonight', 'shipmet', 'advises', 'tribunal', 'countervailing', 'cts', 'hurting', 'processors', 'found', 'subsidized', '917', '781', 'announcements', 'estimating', 'projecting', 'match', '237', 'outlined', 'putting', 'goal', '235', 'article', 'izvestia', 'planned', 'calculating', '238', 'published', 'journal', '207', 'slowed', 'progress', 'viktor', 'member', 'commented', 'limit', 'differentials', 'measures', 'trigger', 'larger', 'require', 'tropical', 'oils', 'labeled', 'studies', 'aside', 'adjustments', 'staff', 'drafted', 'patrick', 'leahy', 'vt', 'unpaid', 'requirement', 'generate', 'exceeded', 'surpassed', 'outline', 'stressing', 'standards', 'sluggish', 'chief', 'nikolai', 'talyzin', 'supreme', 'jan', 'nearest', 'gross', 'services', 'kremlin', 'leader', 'mikhail', 'gorbachev', 'described', 'machine', 'builing', 'rapid', 'modernization', 'difficulties', 'arisen', 'building', 'considerable', 'equipment', 'requires', 'heads', 'gosplan', 'tools', 'instruments', 'whole', 'politburo', 'performance', 'conserving', 'resources', 'boris', 'gostev', 'understated', 'real', 'calculate', 'intertwined', 'civilian', 'medical', 'education', 'pensions', 'social', 'insurance', 'schemes', 'establish', 'regulate', 'forward', 'step', 'dealers', 'internal', 'structure', 'ltd', 'businesses', 'shareholders', 'chanthong', 'pattamapong', 'draw', 'succeeds', 'perhaps', 'forecasts', '397', 'statistical', 'highest', 'history', 'incentives', 'kept', 'shortfall', 'kang', 'growers', 'incentive', 'afford', 'statistics', '987', '075', '272', '715', '640', '388', 'switches', 'totaling', '015', 'fight', 'francois', 'guillaume', 'flatly', 'reject', 'proposed', 'sectors', 'disrupt', 'shorten', 'burden', 'give', 'you', 'my', 'word', 'simply', 'negative', 'conference', 'fnsea', 'nationale', 'des', 'syndicats', 'dexploitants', 'agricoles', 'curb', 'spiralling', 'fix', 'strained', 'sporadic', 'frequent', 'demonstrations', 'protesting', 'falls', 'cutbacks', 'warning', 'reorganisation', 'won', 'him', 'applause', 'pledge', 'push', 'dismantling', 'cross', 'border', 'smooth', 'differences', 'compensatory', 'amounts', 'mca', 'avoid', 'protests', 'raymond', 'lacombe', 'overhaul', 'determination', 'organise', 'favour', 'ministerial', 'appointed', 'job', 'advances', 'reducing', 'awarding', 'indebtedness', 'francs', '396', 'older', 'retire', 'clear', 'ferruzzi', 'unit', 'absorbing', 'cpc', '&', 'lt', ';', 'gruppo', '>', ')>,', 'division', '>,', 'milling', 'acquired', '>.', 'subsidiary', 'eridania', 'zuccherifici', 'nazionali', 'spa', 'erdi', 'mi', 'listing', 'bourse', 'offering', 'principle', 'millng', '806', '1979', 'dominated', 'increaes', 'preceding', '483', 'thirds', 'purchaser', 'dominican', 'republic', 'panama', 'turkey', 'britain', 'upcoming', 'times', 'cyprus', 'countertrade', 'searching', 'conserve', 'tobacco', 'coffee', 'jute', 'electronic', 'minerals', 'iron', 'ore', 'petroleum', 'chemicals', 'steel', 'machinery', 'impetus', 'comes', 'firms', 'stc', 'mmtc', 'power', 'respect', 'promote', 'indian', 'spokeswoman', 'excluded', 'countertrading', 'targetted', 'exchanges', 'bloc', 'convertible', 'rupees', 'involving', 'swaps', 'textiles', 'arms', 'promoted', 'narrow', 'insignificant', 'agreements', 'slow', 'tight', 'debt', 'repayment', 'shrinking', 'protectionism', 'dynamism', 'promoting', 'discreetly', 'break', 'officially', 'bartering', 'structures', 'rails', 'clause', 'parties', 'accept', 'flexible', 'quietly', 'interested', 'aircraft', 'drilling', 'rigs', 'railway', 'chance', 'illustrating', 'korean', 'platform', 'run', 'gas', 'verbal', 'assurance', 'contract', 'delhi', 'lowest', 'helping', 'protocol', 'asbestos', 'fibre', 'zimbabwe', 'bags', 'cars', 'inherent', 'always', 'easy', 'basic', 'balanced', 'often', 'barter', 'temporary', 'lankan', 'caf', 'subsequently', 'counter', 'obtains', '1330', 'contracts', 'totalling', 'oregon', '110', 'priced', 'took', 'cigra', 'elders', 'conservative', 'kahn', 'pty', 'ostensible', 'paradoxically', 'creating', 'depressed', 'confronted', 'necessity', 'faced', 'inventories', 'usa', 'avaiable', 'affect', 'widening', 'louisiana', 'counties', 'tennessee', 'kentucky', 'missouri', 'arkansas', 'alabama', 'ron', 'burgess', 'notified', 'interior', 'sliding', 'depending', 'differential', 'excessively', 'nearby', 'recede', 'mark', 'wouldn', '?\"', 'forecasting', 'tinker', 'lightly', 'greece', 'tendered', 'initially', 'bordeaux', '603', 'rouen', '596', 'sete', 'travelling', 'obtaining', 'pockets', 'dormancy', 'incomplete', 'jamaica', 'using', 'cargoes', 'srw', 'dark', 'excluding', 'brownsville', 'nichemen', 'loius', 'apirl', 'brown', 'air', 'threat', 'mass', 'pose', 'eugene', 'krenzler', 'specialist', 'cooperative', 'extension', 'vulnerable', 'moving', 'fahrenheit', 'southeast', 'colorado', 'stall', 'impeded', 'stay', 'boot', 'closer', 'handle', 'hour', 'degrees', '),\"', 'lot', 'wind', 'southwestern', 'panhandle', 'snow', 'protection', 'quantity', 'uk', '435', 'grown', 'hgca', 'submitted', 'harmony', 'harmonious', 'jacques', 'chirac', 'frequently', 'rancorous', 'disputes', 'fade', 'libyan', 'bombing', 'thing', 'war', 'didn', 'happen', 'reasonably', 'terrorism', 'prospect', 'obliged', 'potentially', 'alleged', 'terrorist', 'planes', 'overfly', 'territory', 'forcing', 'circuitous', 'route', 'pleased', 'joined', 'retaliation', 'poised', 'impose', 'swingeing', 'averted', 'minute', 'hissene', 'habre', 'chad', 'supported', 'trained', 'armed', 'scored', 'success', 'pushing', 'common', 'getting', 'opening', 'markedly', 'irritants', 'list', 'cap', 'root', 'evil', 'subsidises', 'vast', 'excess', 'thereby', 'eating', 'k', '535', '336', 'excise', '251', '284', 'prominent', 'credited', 'recipient', '233', '265', 'czechoslovakia', 'suffer', 'nights', 'forecaster', 'scant', 'flurries', 'starch', 'bullish', 'inquiries', 'belief', 'chartering', 'tighter', 'appealed', 'villagers', 'worst', 'embassies', 'letters', 'outlining', 'population', 'districts', 'letter', 'avert', 'hardship', 'distributing', 'yala', 'lentils', 'maha', 'completely', 'devastated', 'paddy', 'scenarios', 'conditional', 'deprived', 'means', 'subsistence', 'permit', 'sustained', 'adversely', 'slowing', 'defence', 'exert', 'expenditure', 'side', 'handling', 'outlay', 'impairing', 'projects', 'fuelling', 'buffer', 'replaced', 'meteorological', 'experiencing', '1951', 'district', 'kurunegala', 'yugoslavian', 'maribor', 'catch', 'yugoslav', 'away', 'optimistic', 'belgium', '980', 'desinations', '683', '581', 'update', 'prospective', '1500', 'est', '2100', 'seedings', 'integrated', 'nationwide', 'uses', 'probability', 'sampling', 'procedures', 'combine', 'operating', 'lists', 'scheudled', 'releasing', 'fieldwork', 'plowing', 'seventeen', 'stormy', 'snowstorm', 'deaths', 'windy', 'delays', 'cool', 'booting', 'progressed', 'land', 'plains', 'snowy', 'valley', 'halted', 'application', 'weed', 'spraying', 'nitrogen', 'insect', 'amid', 'topsoil', 'subsoil', '612', 'provisional', '283', 'eases', 'eased', 'seedlings', 'transplanted', 'hainan', 'island', 'cane', 'ha', 'provincial', 'investment', 'combat', 'pacts', 'oriented', 'consuming', 'chastened', 'collapse', 'itc', 'insisting', 'ever', 'reality', 'serving', 'ranges', 'responsive', 'trends', 'overstimulating', 'straining', 'accords', 'risk', 'members', 'undermining', 'mindful', 'shunned', 'generalised', 'stabilisation', 'prefer', 'assess', 'cocoa', 'organization', 'icco', 'precise', 'manager', 'bsm', 'prohibited', 'stipulated', 'insistence', 'establishes', 'varying', 'grades', 'inra', 'geneva', 'eliminated', 'provisions', 'borrow', 'banks', 'contributions', 'feature', 'hundreds', 'sterling', 'wrangles', 'ico', 'exemplified', 'degree', 'insist', 'argued', 'objective', 'criteria', 'define', 'shares', 'meant', 'wanted', 'broke', 'executive', 'delegates', 'chances', 'remote', 'exist', 'clauses', 'collect', 'analyses', 'teeth', 'competition', 'glut', 'militate', 'alternative', 'focus', 'groups', 'advice', 'zinc', 'directly', '470', 'operational', 'neither', 'nor', 'ratified', 'doubts', 'fulfil', 'objectives', 'malaysian', 'kuala', 'lumpur', 'looking', 'willing', 'individual', 'cases', 'economically', 'sound', 'balancing', 'interests', 'gained', 'attempting', 'trend', 'belongs', 'ica', 'unrealistic', 'singled', 'seems', 'successful', 'adjustment', 'mechanism', 'accurately', 'ottawa', 'consistently', 'merits', 'lim', 'keng', 'yaik', 'palm', 'decides', 'atpc', 'delegate', 'peter', 'baron', 'stabilise', 'function', 'participants', 'obligations', 'framework', 'sanctions', 'doesn', 'stick', 'sceptical', 'instrument', 'never', 'vehicle', 'transfer', 'interpret', 'traditionally', 'supportive', 'reflecting', 'links', 'stringent', 'justifiable', 'emphasis', 'placed', 'intellectual', 'honesty', 'stress', 'partnership', 'disguise', 'transparency', 'contain', 'borrowing', 'dictate', 'tokyo', 'realism', 'inflate', 'favours', 'regarding', 'mochtar', 'kusumaatmadja', 'jakarta', 'cyclical', 'matter', 'structural', 'committed', 'faith', 'nicaraguan', 'alejandro', 'martinez', 'cuenca', 'backing', 'political', 'sebastiao', 'rego', 'barros', 'keeps', 'practised', 'inside', 'unctad', 'graham', 'shanley', 'realise', 'enhance', 'industrialised', 'ivory', 'risen', 'steadily', 'rapidly', 'fraternite', 'matin', '530', 'detail', 'boosting', 'certs', 'generic', 'certificates', 'mailed', 'von', 'garlem', 'assistant', 'computer', 'signup', 'upset', 'got', 'certificate', 'resisted', 'featured', 'prominently', 'comprises', '634', 'understate', 'comprising', 'hits', 'cftc', 'kcbt', 'regulators', 'modify', 'cbt', 'speculative', 'disadvantage', 'leaving', 'impair', 'michael', 'braude', 'proposing', 'hedging', 'constrain', 'intermarket', 'spreading', 'options', 'attract', 'speculators', 'amend', 'exact', 'specified', 'legislator', 'predicts', 'pat', 'roberts', 'touch', 'possibility', 'expansion', 'rumored', 'george', 'shultz', 'goes', 'unfavorable', 'dimmed', 'emerging', 'embassy', 'travelled', 'subotica', 'damaging', 'effects', 'cast', 'indicating', 'extensive', 'leaf', 'repeated', 'freezings', 'soils', 'thin', 'recovery', 'dressed', 'confirm', 'statements', 'congressman', 'clarify', 'consideration', 'tantamount', 'construed', 'inappropriately', 'hurts', 'shifts', 'mild', 'berlin', 'plants', 'ground', 'frosts', 'heaving', 'furthermore', 'surface', 'thawed', 'repairing', 'harrowing', 'timed', 'modest', 'guess', 'quesstimate', 'syrian', 'syria', 'old', 'summary', 'noaa', 'guangxi', 'guanghdong', 'hunan', 'jiangxi', 'fujian', 'zhejiang', 'facility', 'departments', 'lessened', 'abundant', 'inundative', 'washed', 'requiring', 'replanting', 'plain', 'vegetative', '556', '515', 'puts', '246', '849', '384', '208', 'determine', 'eligibility', 'individuals', 'entities', 'jerome', 'sitter', 'file', 'persons', 'asca', 'milton', 'hertz', 'workloads', 'determinations', 'partnerships', 'imposing', 'entity', 'workload', 'melvin', 'sims', 'earmarked', 'edible', 'ecuador', 'veg', 'flag', 'deliver', '1200', 'bear', 'shows', 'optimism', 'anybody', 'john', 'bud', 'frazier', 'vice', 'balfour', 'maclaine', 'really', 'excited', 'intend', 'susan', 'hackmann', 'agrianalysis', 'meyer', 'shearson', 'lehman', 'brothers', 'friendly', 'bell', 'rang', 'disappearance', 'thought', 'noting', 'seeing', 'exceed', 'she', 'southeastern', 'breaking', 'temper', 'enthusiasm', 'll', 'positive', 'rebuilding', 'cautioned', 'prompt', 'panelists', 'desire', 'reinforce', 'spotlight', 'preserve', '1980', 'xu', 'jinfeng', 'aged', 'fengbang', 'village', 'edge', 'shanghai', 'sums', 'dilemma', 'tries', 'richer', 'factories', 'arable', 'industrialisation', 'countryside', 'gobbled', 'peasants', 'mouths', 'families', 'built', 'gone', 'leadership', 'conversion', 'abusing', 'occupying', 'unlawfully', 'wasting', 'destroying', 'explaining', 'cultivated', 'deficient', 'anything', 'obstacle', 'pays', 'cheap', 'diesel', 'subsidised', 'rural', 'subsidise', 'paying', 'argue', 'simplest', 'solution', 'chen', 'zuyuan', 'listened', 'selfish', 'conflict', 'stability', 'editorial', 'reformed', 'careful', 'object', 'consumed', 'wealth', 'graves', 'memorial', 'halls', 'ancestors', 'freedom', 'expiration', 'halfway', 'worry', 'anxieties', 'fact', 'rule', 'organised', 'collectives', 'room', 'reassure', 'consistency', 'condemns', 'facilities', 'governor', 'yang', 'jike', 'twice', 'irrigated', 'eaten', 'rats', 'dealt', 'trifles', 'essentials', 'illegal', 'reversal', 'tendency', 'zhang', 'yan', 'attacking', 'abundance', 'relaxing', 'saturday', 'premier', 'tian', 'jiyun', '405', 'awaited', 'awaiting', 'duplicate', '861', '031', 'stg', 'handlers', 'lightning', 'employers', 'shorter', 'fnv', 'bert', 'duim', 'stopped', 'europoort', 'handles', 'passing', 'managing', 'pieter', 'van', 'der', 'vorm', 'invited', 'agenda', 'barely', 'redundancies', 'stevedoring', 'guilders', 'session', 'milo', 'lading', 'comparison', 'mcas', 'points', 'denmark', '751', '413', '051', '944', '259', '896', '082', '659', '797', 'colza', 'arrive', '344', '186', 'sudan', '327', 'mauritania', 'approves', 'ethiopia', 'victims', 'wollo', 'illubabor', '583', 'displaced', 'cyclone', 'vanuatu', 'berth', '304', 'subproducts', 'movement', 'adjust', 'barge', 'flowing', 'midmississippi', 'finishing', 'boats', 'supporting', 'spot', 'und', 'unc', 'cincinnati', 'ovr', 'dn', 'seneca', 'davenport', '2und', 'dn61', 'dn11', 'ua', 'cedar', 'rapids', 'dp', 'ne', 'nc', 'unavailable', 'sowings', 'picardy', 'basin', 'poitou', 'charentes', '671', 'midi', 'pyrenees', 'breeding', 'amsol', '829', 'fuels', 'impending', 'coursed', 'customary', 'reenter', 'strengthened', 'perception', 'warming', 'coupled', 'interpreted', 'representatives', 'lipped', 'abandoned', 'contention', 'dormant', 'suggesting', 'whom', 'subsidize', 'imminent', 'claimed', 'predict', 'spoken', 'contact', 'fritz', 'associates', 'confident', 'door', 'sticking', 'embarrassed', 'spurned', 'grounds', 'controlling', 'dampen', 'criticism', 'nonetheless', 'procedure', 'chortling', 'housewives', 'conventional', 'wisdom', 'favor', 'competitively', 'forgotten', 'circumstances', 'surrounding', 'announcment', 'expand', 'broader', 'scaled', 'heart', 'convinced', 'pass', 'opportunity', 'monopoly', 'guaranteed', 'unpublished', 'assured', 'reserved', 'either', 'sometimes', 'lof', 'tended', 'displace', 'ends', 'newsletter', 'quarters', 'corresponding', 'sense', 'butter', 'onward', 'pick', 'worsened', 'notably', 'paso', 'los', 'libres', 'bordering', 'places', 'luis', 'actually', 'dampness', 'earth', 'humidity', 'dimishing', 'permitting', 'relation', 'overcast', 'sunlight', 'induce', 'finding', 'empty', 'pods', 'azores', 'leixoes', 'paranagua', 'med', 'purposes', 'shex', 'ara', 'dieppe', 'adriatic', 'lawrence', 'marseilles', 'manfredonia', 'chimbote', 'kaohsiung', 'fishmeal', 'ph', 'immingham', 'foynes', 'alternatively', 'maracaibo', 'reorganizations', 'proving', 'costly', 'gao', 'reorganize', 'circumvent', 'accounting', 'associate', 'brian', 'crowley', 'rolls', '618', '815', '188', '992', '403', '862', '309', '809', '275', '492', 'pollards', '606', '352', '256', '752', '065', '878', '755', '002', '234', '954', '650', '571', 'polards', '724', '946', '826', 'principal', 'holland', '029', '766', '365', '897', 'cuba', '646', '158', '491', 'canary', 'islands', 'corea', '416', 'booking', 'big', 'attractive', 'hoffman', 'analysis', 'assuming', 'respond', 'agribusiness', 'constraints', 'vernon', 'mcminimy', 'staley', 'manufacturing', 'autumn', 'relying', 'apparent', 'unwillingness', 'turn', 'face', 'bringing', 'licenses', 'zealand', 'deregulation', '0830', 'status', 'regulations', 'matters', 'safety', 'composed', 'extend', 'life', 'amendments', 'comprehensive', 'restrict', 'lamb', 'casein', 'jurisdiction', 'legislation', 'funding', 'instructs', 'acquisition', 'bob', 'glenn', 'english', 'okla', 'jointly', 'opposed', 'host', 'arlan', 'stangeland', 'minn', 'primarily', 'curbing', 'dairy', 'peanut', 'countercyclical', 'urging', 'retaliating', 'conduct', 'licensing', 'tariff', 'barrier', 'reimburse', 'defending', 'tax', 'findings', 'recommended', 'reorganization', 'apparatus', 'carloadings', 'railroads', 'loadings', 'denies', 'calls', 'risking', 'providing', 'customers', 'becoming', 'increasingly', 'conscious', 'demanding', 'adherence', 'contractual', 'specifications', 'submission', 'royal', 'categories', 'identify', 'retain', 'supplying', 'stressed', 'segregate', 'receival', 'uniform', 'vital', 'role', 'coordinating', 'physical', 'legislative', 'borders', 'efficient', 'mode', 'irrespective', 'example', 'wales', 'nsw', 'efficiently', 'brisbane', 'queensland', 'sydney', 'newcastle', 'similarly', 'rail', 'notable', 'impediment', 'favoured', 'maintaining', 'maintained', 'appendix', 'houston', 'cartier', 'quebec', 'substantially', 'marketed', '918', 'kingsley', 'chinkuli', 'parliament', 'lucky', 'setting', 'lessen', 'bernard', 'vieux', 'worried', '422', 'colombia', 'renounce', 'calculation', 'anticipate', 'relate', 'totally', 'different', 'manner', 'overnight', 'denaturable', 'anglia', 'traded', 'standstill', 'dutch', 'staged', 'actions', 'unload', 'bottom', 'recover', 'lows', 'recovered', 'initial', 'attracted', 'afternoon', 'rallied', 'easier', 'liverpool', 'comparatively', 'sellers', 'midday', 'jun', 'encouraging', 'writing', 'prepare', 'marked', 'easing', 'tough', 'produces', 'imbalances', 'relative', 'input', 'solve', 'restructure', 'timecharters', 'fixtures', 'tilbury', 'via', 'baltic', 'redelivery', 'skaw', 'ceuta', 'cape', 'passero', 'gibraltar', 'connected', 'taranto', 'carrier', 'dw', 'severel', 'bound', 'singapore', 'destined', 'quieter', 'routes', 'nantes', 'jeddah', 'compania', 'abastecimiento', 'cindasa', 'pesetas', 'kilo', 'valencia', 'unspecified', 'gravity', 'considering', 'absence', 'pushed', 'sartaj', 'aziz', 'exportable', 'wish', 'gives', 'aim', '1993', 'extra', 'margin', 'abolition', 'rationing', 'gauged', 'unlimited', 'phased', 'ration', 'cards', 'enabling', 'cheaply', 'introduction', 'corrupted', 'diverted', 'illicitly', 'mills', 'stabilising', 'karachi', 'interemdiate', 'decreased', 'anticipating', 'pointing', 'keen', 'representations', 'triggered', 'authorisation', 'sections', 'halved', 'overstated', 'unsold', '753', 'expectations', 'created', 'nervous', 'prediction', 'surfaced', '868', 'buoyant', 'strengthen', 'compounders', 'substitute', 'entering', 'shaky', 'faulty', 'enduring', 'dim', 'bears', 'watching', 'standpoint', 'certainty', 'gail', 'martell', 'hutton', 'reseeded', 'reseed', 'snowcover', 'speculate', 'correlation', 'mediocre', 'ukraine', 'melting', 'ice', 'crusting', 'jim', 'candor', 'pastures', 'pasture', 'feeding', 'desperate', 'feel', 'huge', 'fluke', 'perfect', 'occur', 'insure', 'explodes', 'burlington', 'exploded', 'injured', 'operated', 'archer', 'daniels', 'midland', 'decatur', 'ill', 'doug', 'snyder', 'explosion', 'immediatley', '744', '228', 'malt', 'initiatives', 'colombian', 'quarterly', 'surpass', 'causing', 'hundredweight', 'percentage', 'once', 'leveled', 'resulting', 'faster', 'promotion', 'visible', 'wider', 'weaker', 'competing', 'inroads', 'capita', 'incomes', 'doubled', '189', '074', '851', '486', '922', 'roasted', '520', '410', 'complex', 'agencies', 'crushers', 'rbd', 'olein', 'retender', 'wehat', ')...', '447', '277', '804', '892', '292', 'flaxseed', 'tonens', 'imprts', 'ocean', 'biffex', 'response', '785', '552', '608', '381', 'frost', 'hubei', 'blanketted', 'jilin', 'liaoning', 'muddy', 'ploughing', 'yangtze', 'sunday', 'arid', 'marking', 'flood', 'fairs', 'criticised', 'failing', 'proper', 'unsatisfactory', 'book', 'keeping', 'pravda', 'owing', 'theft', 'roubles', 'asian', 'kazakhstan', 'severely', 'ousting', 'veteran', 'dinmukhamed', 'kunayev', 'gennady', 'kolbin', 'performed', 'tass', 'grigory', 'zolotukhin', 'retired', 'alexander', 'budyka', 'drawn', 'deputies', 'reprimanded', 'outlays', 'obtained', 'suggests', 'request', 'jesse', 'helms', '.),', 'determines', 'entries', 'forfeitures', 'stockpile', 'suggest', 'fuel', 'fire', 'weigh', 'heavily', 'consultant', 'firmly', 'compliance', 'requesting', 'calculated', 'difference', 'established', '685', 'offerings', '132', 'insufficient', 'breakeven', 'gmp', 'deductions', 'deducted', 'receives', 'bae', 'holdings', 'filed', '657', '406', '122', '479', '231', 'numbers', 'driving', 'capture', 'itself', 'undercut', 'stark', 'contrast', 'presence', 'bwb', 'cites', 'eventual', 'contribute', 'rescheduled', 'heat', 'emergence', 'competitor', 'droughts', 'tones', 'perceived', 'stimulated', 'voiced', 'prompting', 'professionals', 'dismal', 'sure', 'gamble', 'oat', 'penalized', 'thinking', 'shift', 'exemptions', 'exempt', 'rotated', 'alfalfa', 'multiyear', 'grasses', 'legumes', 'sodbuster', 'erodible', 'edward', 'zorinsky', 'neb', 'sponsor', 'rotating', 'practices', 'erosion', 'strictly', 'leave', 'nearer', 'powers', 'envisaged', 'releases', 'assumption', 'issuance', 'preclude', 'forfeited', 'redeemed', 'remained', 'goverment', 'underestimated', 'redemptions', 'mind', 'useful', 'liquidity', 'competitiveness', 'integral', 'kans', 'submit', 'sparks', 'diversion', 'carroll', 'brunthaver', 'split', 'examined', 'assumed', 'artificially', 'scenario', 'expenditures', 'gradual', 'boundary', 'slowly', 'retreat', 'northward', 'eastward', 'deep', 'caucasus', 'volga', 'greening', 'adjacent', 'black', 'burns', 'bancroft', 'pre', 'dawn', 'ripped', 'wooden', 'burning', 'contained', 'dispatcher', 'algona', 'lone', 'rock', 'coop', 'destruction', 'transferred', 'foodstuffs', 'amended', 'announces', 'warehouse', 'warranted', 'solely', 'amarillo', 'became', 'cancel', 'pl480', 'varieties', 'cheapest', 'variety', 'preferred', 'consist', 'lots', 'ecu', 'extensification', 'scheme', 'qualify', 'veal', 'wine', 'vinegrowers', 'undertake', 'profit', 'forego', 'contains', 'embark', 'protecting', 'improving', 'environment', 'allowances', 'techniques', 'frans', 'andriessen', 'relatively', 'distortion', 'survive', 'tackles', 'retirement', 'heirs', 'generous', 'meteorology', 'teresa', 'tomaszewska', 'protective', 'layer', 'melted', 'harmful', 'spells', 'young', 'shoots', 'exposed', 'torrential', 'paralysed', 'proved', 'measured', 'heaviest', 'recorded', 'revise', 'inched', 'million', 'propose', 'rudy', 'boschwitz', 'regardless', 'applying', 'event', 'decoupling', 'conceivably', 'diminished', 'deciding', 'reseeding', 'simple', 'sudden', 'stop', 'byelorussia', 'exemption', 'restore', 'deny', 'interrupting', 'unfortunate', 'sod', 'buster', '689', '462', '048', '532', '299', '417', '887', '337', 'greek', '665', '642', '507', 'worrying', 'outlets', 'detailing', 'advised', 'drops', 'talking', 'nuts', 'bolts', 'survival', 'worthwhile', 'economists', 'recommend', 'treasury', 'rests', 'mayer', 'renewal', 'imbalance', 'albert', 'melnikov', 'expires', '1975', '....', 'tied', 'fulfill', 'seller', 'lived', 'accused', 'implementing', 'fault', 'accordance', 'definite', 'story', 'opposes', 'directors', 'urge', 'alterations', 'solidly', 'dean', 'kleckner', 'judgment', 'independent', 'alternatives', 'deems', 'authorize', 'adverse', 'fired', 'isn', 'informally', 'formally', 'interviewed', 'counterparts', 'sailing', 'interagency', 'consummated', 'deliberations', 'nudged', 'capitol', 'hill', 'subcabinet', 'factual', 'informal', 'suggestion', 'hint', 'disarray', 'stemming', 'affair', 'mull', 'speculated', 'transmitted', 'bills', 'scrap', 'bean', 'floors', 'sent', 'eliminate', 'permissible', 'intention', 'scrapping', 'disclosed', 'yemen', 'affects', 'abnormally', 'diseases', 'hydroelectric', 'upper', 'reaches', 'century', 'aground', 'harbour', 'manoeuvres', 'forest', 'fires', '196', '909', '056', 'nakhon', 'ratchasima', 'chaiyaphum', 'khon', 'kaen', 'mahasarakam', 'rainfalls', 'broaden', 'cropland', 'grassley', 'doubtful', 'retroactive', 'tide', 'referring', 'certify', 'base', 'complained', 'inadvertantly', 'historic', 'potato', 'volumes', 'pigmeat', 'pig', 'settlement', 'gafta', '984', 'carcases', '864', '116', 'initative', 'multifoods', '465', 'hurt', 'resource', 'wilson', 'energy', 'copper', 'listen', 'comnons', 'battling', 'recognized', 'prisoner', 'boundaries', 'appearing', 'reflection', 'concerns', 'dealing', 'answer', 'minutes', 'reviewing', 'guiding', 'handful', '023', '704', '109', '214', 'refund', 'underway', 'corner', 'heading', 'toward', 'david', 'rogers', 'barometer', 'irish', 'zone', '5c', 'saharan', '153', '448', '014', '038', '874', '658', '999', 'stagnates', 'declines', 'drawdown', 'promising', 'copra', 'resistant', 'seeds', 'fertile', 'reluctance', 'underlines', 'outbreak', 'wereng', 'hoppers', 'insecticides', 'plywood', '695', 'crushing', 'devaluation', 'rupiah', '1960s', 'slump', 'debate', 'draft', 'spark', 'coupling', 'pilot', 'strongly', 'emerge', 'proponents', 'reopening', 'staffers', 'conflicting', 'bode', 'decisions', 'quickly', 'implemented', 'cattlemen', 'equitable', 'limiting', 'gene', 'moos', 'foley', 'wash', 'atmosphere', 'ignore', 'stenholm', 'tex', 'introduce', 'rejection', 'arland', '011', 'bacteria', 'eggs', 'husbandry', 'fisheries', 'pesticides', 'markup', 'till', 'controversy', 'exists', 'suspends', 'suspended', 'importation', 'iris', 'resende', 'suspension', 'transaction', '494', '429', 'equaled', 'pending', 'resurrected', 'reps', 'allowing', 'broadened', 'vocal', 'influential', 'wary', 'reopened', 'reverse', 'vermont', 'democrat', 'conclude', 'team', 'cairo', 'resolved', 'resume', 'dante', 'caputo', 'doubling', 'tangible', 'wide', 'integration', 'presidents', '1991', '223', 'injuring', 'upholds', 'countervail', 'injurious', 'upheld', 'ontario', 'contended', 'undertaken', 'disappointed', 'injury', 'helpful', 'context', 'ongoing', 'multilateral', 'declining', 'apparently', 'ignored', 'nawg', 'willingness', 'consequently', 'important', 'renew', 'mutual', 'assurances', 'advisable', 'thomas', 'kay', 'address', 'unjustified', 'injure', 'inconceivable', 'rash', 'challenge', 'gluten', 'believes', 'facts', 'carefully', 'evaluate', 'responses', 'mge', 'hfcs', 'fructose', 'syrup', 'henderson', 'spokesperson', 'pound', 'tank', 'sweetening', 'derived', 'commonly', 'sweetener', 'drinks', 'beverages', 'designated', 'symbol', 'hf', '0900', '1315', 'cst', 'correspond', 'hundred', 'fluctuation', 'beverage', 'bottlers', 'potentials', 'quite', 'utilize', 'attacks', 'surprised', 'materially', 'liberalize', 'rounnd', 'incomprehensible', 'threaten', 'caving', 'darwin', 'stolte', 'strain', 'relationship', 'negatively', 'related', 'congressmen', 'committal', 'advocates', 'sparked', 'implement', 'trim', 'version', 'pertains', 'treated', 'equally', 'narrowed', 'unclear', 'choice', 'cutback', 'harold', 'volkmer', 'expanding', 'reopen', 'idle', 'opponents', 'impacts', 'blast', 'disappointment', 'dangerous', 'precedent', 'mike', 'hall', 'lobbyist', 'clearly', 'charge', 'complaint', 'farrmers', 'cleary', 'unexpected', 'agrument', 'driven', 'attack', 'unfairly', 'displacing', 'specialists', 'testified', 'benefited', 'losing', 'exerting', 'upward', 'influence', 'worldwide', 'unaffected', 'heard', 'miguel', 'braceras', 'bigger', 'adopt', 'intensive', 'abolish', 'agents', '523', 'merge', 'advisers', 'instructed', 'amalgamation', 'lpfa', 'lmfe', 'somfa', 'timetable', 'consulted', 'englebright', 'merger', 'joining', 'intends', 'consult', 'james', 'mackie', 'regulatory', 'administrative', 'recognition', 'recognised', 'rie', 'securities', 'stronger', 'formation', 'elmer', 'merged', 'flows', '962', '097', '623', '426', '005', '421', '972', '794', 'allocated', 'catalogs', 'clears', 'hurdle', 'liquid', 'processed', 'refiners', 'expiring', 'assessed', 'operative', 'cebeco', 'handelsraad', 'tapioca', '967', 'cornglutenfeed', 'cornfeedmeal', '399', 'citruspulp', 'sunmeal', '216', '172', '408', '409', '516', 'transacted', 'possibly', 'divided', 'hesitation', 'managament', 'lag', 'madigan', 'dole', 'sponsors', 'feb', 'yeras', 'nigeria', 'rahr', 'malting', 'pasturage', 'egg', 'roughage', 'grant', 'guaranteeing', 'pounds', 'bakers', 'pasta', '043', '474', 'discusses', 'renovation', 'upheaval', 'proceed', 'involve', 'midamerica', 'karsten', 'mahlmann', 'sladoje', 'presentations', 'regard', 'renovating', 'looked', 'things', 'flip', 'flopping', 'rooms', 'conceivable', 'temporarily', 'construction', 'drawing', 'earliest', 'renovate', 'crowded', 'pits', 'muni', 'adjoining', 'corridor', 'utilizing', 'midam', 'financials', 'quadrants', 'architectural', 'drawings', 'frame', 'undertaking', 'vacate', 'cleared', 'index', 'pit', 'specializes', 'mini', 'currencies', 'rumor', 'discounted', 'practical', 'drexel', 'burnham', 'gustafson', 'honor', 'honoured', 'aggressive', 'stirred', 'capitalize', 'capitalists', 'definitely', 'evolving', 'frenetic', 'braced', 'interferes', 'manpower', 'edition', 'wen', 'wei', 'po', 'experienced', 'bearing', 'dryland', 'meixian', 'shaanxi', 'gansu', 'robert', 'refusal', 'play', 'hands', 'posed', 'viewed', 'welfare', 'recapture', 'pledged', 'anywhere', 'sensed', 'selection', 'karnes', 'mulls', 'ethanol', 'introducing', '2000', 'addressing', 'governors', 'gasoline', 'gallon', 'expire', '1992', 'bolster', 'chemical', 'properties', 'drink', 'mitsubishi', 'richco', '455', 'reliable', 'reinforced', 'expectation', 'enrollment', 'signups', 'greatest', 'predominate', 'pulled', 'fringe', 'percent', 'rents', 'rent', 'acre', 'lighter', 'flooded', 'armendariz', 'flying', 'ernesto', 'figueras', 'lying', 'easily', 'uprooted', 'moved', 'isolated', '970', 'paice', 'receivals', 'downgraded', 'publication', '393', 'estate', 'launch', 'rich', 'higashi', 'nippon', 'california', 'florida', 'gauge', 'oversee', 'operation', 'tenants', 'investors', 'rental', 'isao', 'nakamura', 'controlled', 'dream', 'recession', 'panamanian', 'grounded', 'juvena', 'tartous', 'discharging', 'engine', 'crack', 'lloyds', 'intelligence', '351', 'ran', 'breakwater', 'seas', 'z', 'nzfe', 'clearing', 'icch', 'crossbred', 'wool', 'barred', 'portuguese', 'court', 'epac', 'accession', 'empresa', 'publica', 'abastecimento', 'cereais', 'liberalised', 'protested', 'acico', 'proceedings', 'participating', 'ascensao', 'lisbon', 'appeal', 'violated', 'treaty', 'network', 'preferring', 'profile', 'visits', 'fully', 'petition', 'reexamine', 'conducting', 'formal', 'forerunner', 'liberalization', ')....', 'translate', 'knowledge', 'talked', 'reminded', 'responded', '?', 'persistent', 'spurt', 'manipulated', 'extending', 'someone', 'sided', 'definitive', 'anyone', 'consisting', 'pushes', 'shame', 'locked', 'properly', 'revision', 'goals', 'voluntary', 'type', 'delinking', 'pursuing', 'unequivocal', 'cosponsor', 'boren', 'permament', 'idled', 'prohibit', 'haying', 'grazing', 'tenant', 'obtain', 'robbin', 'johnson', 'bias', 'overproduction', 'dependency', 'confusion', 'larry', 'testifying', 'disputed', 'windfall', 'technique', 'studying', 'focused', 'boschwitiz', '386', '248', '886', '925', '952', 'kampuchea', 'spk', 'diplomats', 'lends', 'lend', 'transportation', 'repayable', 'grace', 'burmese', 'burma', 'baskets', '737', 'basket', '699', 'green', 'revolution', 'strains', 'plateau', 'levelling', 'unofficial', 'men', 'protest', 'stalemated', 'refusing', 'ostensibly', 'conciliatory', 'gesture', 'satisfied', '1400', 'underpinned', 'minimal', 'associaiton', 'barges', 'numerous', 'motivations', 'therby', 'prompted', 'downside', 'bottomed', 'hoping', 'inteview', '572', '402', 'erodable', 'ineligible', '894', '764', 'advantage', 'comodity', '890', 'montana', 'dakota', '588', '587', 'prefixed', 'droit', 'commun', 'switzerland', 'austria', 'lichtenstein', 'melilla', 'restitution', 'neutral', 'underpin', 'firmed', 'erodoble', 'authorization', 'grade', 'shall', 'contracting', 'bearish', 'regarded', 'lambert', 'changing', 'loewy', 'prudential', 'bache', 'disappointing', 'flow', 'katharina', 'zimmer', 'merrill', 'lynch', 'referred', 'her', 'announce', 'represent', 'slapped', 'paul', 'bomani', 'fraction', 'grew', 'nmc', '742', 'acting', 'rubibira', 'silo', 'dar', 'es', 'salaam', 'arusha', 'iringa', 'flat', 'build', 'silos', 'mbeya', 'ruvuma', 'rukwa', 'madagascar', 'quadrupled', 'malagasy', 'disclosing', 'tonnages', 'rescue', 'independence', 'unip', 'explain', 'proposes', 'restored', 'quell', 'disturbances', 'remodelling', 'auction', 'modifications', 'fluctuations', 'slid', 'revalued', 'banking', 'persuaded', 'ceiling', 'auctions', 'restart', 'convention', 'alter', 'closes', 'legislated', 'w', 'corportion', 'tactically', 'tactical', 'tool', 'preempt', 'selective', 'pressuring', 'asssessed', 'provisiion', 'acreages', 'removed', 'typical', 'keith', 'collins', 'ildled', 'determining', 'variable', 'cicumstances', 'admit', 'separating', 'complain', 'challenging', 'duties', 'code', 'courts', 'retaliate', 'documents', '345', '940', 'fallow', '705', '888', '585', '035', '611', '285', '512', 'nonprogram', '702', 'uncommitted', 'lugar', 'ranking', 'backed', 'tighten', 'loophole', 'tallow', 'supplied', 'sens', 'danforth', 'senators', 'austin', 'schlick', 'levees', 'cyrpus', 'algerian', 'invitation', 'human', 'loses', 'earns', 'spare', 'sweet', 'potatoes', 'factory', 'electricity', 'devoted', 'repeatedly', 'suburb', 'suburbs', 'salaries', 'chu', 'fengbing', 'pan', 'huashan', 'science', 'roads', 'infrastructure', 'lease', 'advantages', 'promises', 'siphoned', 'bureaucracy', 'saved', 'alleviated', 'gmb', 'peasant', 'danger', 'concept', 'broadcast', 'realized', '655', '872', 'sunoil', 'linoil', 'jul', 'targeting', 'democrats', 'sized', 'warmly', 'constructive', 'tim', 'penny', 'byron', 'dorgan', 'nd', 'engaged', 'accumulation', 'nonrecourse', 'defining', 'republicans', 'person', 'document', 'kilos', 'hectolitre', 'ones', 'moistening', 'topsoils', 'zheziang', 'reversed', 'ample', 'guanxi', 'guandong', 'obviously', 'periodically', 'knwo', 'hear', 'knows', 'orange', 'triangle', 'transvaal', 'persisted', 'filling', 'lightest', 'sumary', 'england', 'usuaually', 'underwaty', 'beginnning', 'reversing', 'nearing', 'reproduction', 'restricted', 'luzon', 'mindanao', 'locally', 'dotted', 'java', 'cnsecutive', 'moroccan', 'approaching', 'teh', 'vietnam', 'prevailed', 'reproductive', 'phase', 'midwestern', 'assist', 'michigan', 'endorsed', 'withheld', 'hay', 'outstripped', 'appropriated', 'thwart', 'narrower', 'struck', 'transshipment', 'responsibility', 'scope', 'edgar', 'pye', 'ukasta', 'moment', 'manufacturers', 'dinner', 'glasgow', 'fats', 'blocked', 'tooth', 'nail', 'justice', 'contesting', 'regulation', 'fefac', 'exchanged', 'remainder', 'freeing', 'marketable', 'otherwise', 'escalation', 'frist', 'vongarlem', 'termination', 'rotation', 'banning', 'vangarlem', 'relieve', 'relocate', 'tightness', 'unusual', 'meetings', 'resist', 'predictability', 'convey', 'delighted', 'message', 'organizations', 'glen', 'hofer', 'participant', 'unresponsive', 'myers', 'attended', 'sympathetic', 'noncommittal', 'detected', 'frustration', 'positively', 'puzzled', 'receptivity', 'exerted', 'phone', 'restrained', 'consignment', 'garnac', 'jersey', 'resolutions', 'retaliatory', 'durenberger', 'skewed', 'lowering', 'engage', 'redeem', 'acts', 'lieu', 'byproduct', 'firmer', 'served', 'depress', 'squeezing', 'margins', 'discouraging', 'marketings', 'overreacted', 'subside', 'settle', 'reconstitution', 'possibilities', 'studied', 'learned', 'fy', 'everthing', \"')\", 'committing', 'himself', 'limitations', 'chopping', 'block', 'appropriations', 'dept', 'schultz', 'miller', 'importance', 'dependent', 'hampered', 'aware', 'grower', 'delegations', 'branch', 'purpose', '341', 'whatever', 'else', 'ridiculous', 'somebody', 'your', 'somewhere', 'aren', 'housewife', 'realizes', 'skies', 'seasonable', 'accelerate', 'pace', 'judge', 'widely', 'toll', 'stowed', 'trimmed', 'euqivalent', 'developments', '349', '989', '758', 'renews', 'renewing', 'oecd', 'conducted', 'calculates', 'pse', 'calculations', 'coinciding', 'jopling', 'highlight', 'familiar', 'attempt', 'verify', 'marcel', 'cazale', 'subsidizes', 'updated', 'relevant', 'timechartering', 'panamax', 'carry', 'surge', 'soared', 'tends', 'bookings', 'drain', 'chernobyl', 'worse', 'beneficiary', 'owners', 'lay', 'sentiment', 'suggestions', 'slack', 'fluctuated', 'bunker', 'faltered', 'asks', 'allowable', 'infestations', 'establishing', 'tolerances', 'insects', 'infested', 'sample', 'grams', 'infestattion', '1300', 'cdt', 'offerors', 'remark', 'explicitly', 'endorsing', 'noteworthy', 'query', 'complaining', 'rebuffed', 'adamantly', 'obstacles', 'overture', 'sessions', 'lobbyst', 'improves', 'cautious', 'attitude', 'promise', 'significance', 'commentary', 'consistent', 'taught', 'necessarily', 'hopeful', 'applies', 'alike', 'reexported', 'madrid', 'flawed', 'australians', 'topics', 'privatization', 'disclosure', 'assessments', 'quarantine', 'ourselves', 'unilaterally', 'stocking', 'sincerely', 'profitability', 'feels', 'fought', 'battle', 'mat', 'basically', 'wage', 'vigorous', 'clarifying', 'whenever', 'everyone', 'repetition', 'baulked', 'entitled', 'foregone', 'conclusion', 'geographically', 'diverse', 'linked', 'scientists', 'reintensification', 'understood', 'nino', 'planters', 'offical', 'meteorologists', 'hydro', 'electric', 'households', 'media', 'celsius', 'temperature', 'harbin', 'threatens', 'plantation', 'stages', 'heightened', 'memory', 'coincided', 'occurrence', 'phenomenon', 'linking', 'disrupted', 'specialises', 'unique', 'christ', 'child', 'christmas', 'clouds', 'archipelago', 'peru', 'mingles', 'waters', 'associated', 'pump', 'equilibrium', 'sends', 'warmer', 'collides', 'deflect', 'wait', 'striken', 'coastal', 'strip', 'diminishing', 'rainy', 'draws', 'secondary', 'l', 'bhagat', 'fci', 'warehouses', 'surveyed', 'asa', 'sindt', 'merchandisers', 'dropping', 'wholesale', 'possiblity', 'continually', 'monitoring', 'accuracy', 'accurate', 'tour', 'oficials', 'emptied', 'returning', 'continents', 'lima', 'mud', 'slides', 'piura', 'pima', 'cycle', 'dams', 'picks', 'momentum', 'setback', 'cooler', 'intensify', 'project', 'course', 'author', 'ef', 'pessimistic', 'disastrous', 'troubled', 'optimal', 'bitter', 'insulated', 'besides', 'depleted', 'necessitated', 'healthy', 'skeptical', 'accident', 'contaminated', 'resort', 'ldc', 'requirments', 'strife', 'climates', 'adapted', 'straight', 'constitutes', 'drastically', 'slash', 'accompanying', 'improvements', '\",', 'beet', 'compensated', 'porter', 'drastic', 'lowers', 'excludes', 'exceeding', 'commercially', 'recoverable', 'whichever', 'sweeteners', 'progressive', 'contraction', 'flight', 'imposes', 'enactment', 'stabilize', '438', 'seaway', 'modes', 'revenues', 'mile', 'waterway', 'metric', 'montreal', 'lake', 'welland', 'canal', 'erie', 'traveled', 'lock', 'william', 'blair', 'seafarers', 'coasts', 'rollbacks', ')--', 'roman', 'gralewicz', 'conciliator', 'hammer', 'walkout', 'tying', 'disasterous', 'gay', 'hemsley', 'carriers', 'asking', 'wages', 'crew', 'dispatching', 'tolls', 'locks', 'maintenance', 'climb', 'delegation', 'attributed', '003', '567', 'mixes', '993', '339', '013', '459', '412', '743', '202', 'deng', 'xiaoping', 'ming', 'pao', 'pigs', 'fed', 'gdp', 'mohammad', 'syeduzzaman', 'expatriates', '626', 'liberal', 'attain', 'beghin', '703', '527', 'jean', 'marc', 'vernes', 'franc', '660', 'trades', 'haubourdin', 'bidding', 'installations', 'apart', 'tag', 'fails', 'acquiring', 'kaysersberg', 'transformed', 'fledged', 'forecasters', 'awf', 'assisted', 'fallows', 'paddocks', 'statutory', 'proportion', 'alfred', 'toepfer', 'bountiful', 'famine', 'aweke', 'aynalem', 'attaining', 'belg', 'quick', 'maturing', 'wello', 'tigre', 'hararghe', 'sow', 'pinned', 'pryor', 'ark', 'amending', 'serves', '380', 'lobby', 'coceral', 'execution', 'argues', 'precaution', 'alvaro', 'barreto', 'disagreed', 'barring', 'readmitted', 'operator', 'martyr', 'serve', 'rod', 'expose', 'suspend', 'lobbied', 'fundamental', 'asides', 'precisely', 'arrange', 'fulfilment', 'arrangements', 'lie', 'applicable', 'opinion', 'explore', 'reporter', 'distinction', 'elaborate', '307', '645', 'tripled', 'slipped', '697', 'persist', 'denials', 'substance', 'pure', 'fiction', 'substantiate', 'fanning', 'connections', 'ivlev', 'amtorg', 'care', 'employment', 'villages', 'digging', 'canals', 'activities', 'spent', 'anti', 'hui', 'bao', 'snowfall', 'worsen', 'experts', 'challenged', 'proof', 'attaches', 'rumours', 'nuclear', 'openness', 'inquiry', 'iac', 'kerin', 'nature', 'duration', 'underwriting', 'examination', 'aspects', 'wheatgrowers', 'distribute', 'needy', 'charities', 'store', 'deteriorates', 'hand', 'harsh', 'increments', 'enrolling', 'acitivity', 'dragging', 'feet', 'op', 'dissolution', 'arm', 'pullout', 'demise', 'scrambling', 'regional', 'ironically', 'founded', '1960', 'affiliated', 'mulligan', 'agriindustries', 'indianapolis', 'goldkist', 'atlanta', 'ga', 'midstates', 'moines', 'observors', 'blow', 'banding', 'destroy', 'cohesiveness', 'hanes', 'communications', 'crunch', 'consolidation', 'ops', 'commercials', 'themselves', 'multi', 'folks', 'gun', 'shy', 'convenience', 'bit', 'sorry', 'wayside', 'plenty', 'capable', 'steven', 'cavanaugh', 'opinions', 'ought', 'patronage', 'refunds', 'translates', 'owns', 'switch', 'unsurpassed', 'rank', 'sixty', 'plummet', 'slower', 'tumble', 'decreasing', 'historical', 'budge', 'delta', 'fractionally', 'soaring', 'exception', 'records', '1932', 'averaging', 'absolutely', 'idling', 'arrival', '356', 'mission', 'missions', 'donation', 'donations', 'melcher', 'mont', 'donate', 'identifying', 'sending', 'kenya', 'costa', 'rica', 'fas', 'employees', '790', 'destruct', 'jerry', 'huckaby', 'voluntarily', 'sugarbeet', 'forestall', 'lets', 'ideally', 'advocate', 'staying', 'indefinitely', 'breakthrough', 'crystalline', 'refiner', 'advantageous', 'preserved', 'allocations', 'guidance', 'legally', 'fragile', 'understands', 'speeches', 'retroactively', 'steam', 'discovered', 'beneficial', 'interrupted', 'resumption', 'impossible', 'dries', 'advancing', 'eyed', 'eager', 'launches', 'signs', 'odds', 'taxpayers', 'accrue', 'testify', 'investigative', 'pinpoint', 'denominated', 'partial', 'repay', 'recipients', 'eliminating', 'cbo', 'curbs', 'reassess', 'attributable', 'ers', 'redemption', 'dollars', 'sww', 'memphis', 'peoria', 'evansville', 'baltimore', 'norf', 'phil', 'lou', 'seattle', 'stockton', 'brly', 'soyb', 'sorg', '---', 'evnsvlle', 'cinci', 'mpls', 'balt', 'kc', 'lo', 'amarlo', 'lubbck', 'army', 'quan', 'doi', 'nhan', 'monitored', 'soldiers', 'harder', 'endangered', 'iwc', 'ups', '534', 'resown', 'bolstered', 'endof', 'employed', 'unemployment', 'inferior', 'outlines', 'courses', 'wil', 'needing', 'unattractive', 'abandoning', 'distinguish', 'occasions', 'exchequers', 'enterprises', '675', 'compounder', 'het', 'comite', 'ordinating', 'distortions', 'lodged', 'guilder', 'oral', 'name', 'refer', 'luxembourg', 'collected', '197', 'probe', 'unanimously', 'expedited', 'binding', 'violates']\n"
          ]
        }
      ]
    },
    {
      "cell_type": "code",
      "source": [
        "def distinct_words(corpus):\n",
        "    \"\"\" Determine a list of distinct words for the corpus.\n",
        "        Params:\n",
        "            corpus (list of list of strings): corpus of documents\n",
        "        Return:\n",
        "            corpus_words (list of strings): sorted list of distinct words across the corpus\n",
        "            n_corpus_words (integer): number of distinct words across the corpus\n",
        "    \"\"\"\n",
        "    corpus_words = []\n",
        "    n_corpus_words = -1\n",
        "    dict1 = {}\n",
        "\n",
        "    # ------------------\n",
        "    # Write your implementation here.\n",
        "\n",
        "    for values in corpus:\n",
        "      for value in values:\n",
        "        dict1[value] = 1\n",
        "    n_corpus_words = len(dict1)\n",
        "    for key, value in dict1.items():\n",
        "      corpus_words.append(key)\n",
        "    corpus_words.sort()\n",
        "\n",
        "    # ------------------\n",
        "\n",
        "    return corpus_words, n_corpus_words"
      ],
      "metadata": {
        "id": "6DO89Q8gWtPJ"
      },
      "execution_count": 5,
      "outputs": []
    },
    {
      "cell_type": "code",
      "source": [
        "# ---------------------\n",
        "# Run this sanity check\n",
        "# Note that this not an exhaustive check for correctness.\n",
        "# ---------------------\n",
        "\n",
        "# Define toy corpus\n",
        "test_corpus = [\"{} All that glitters isn't gold {}\".format(START_TOKEN, END_TOKEN).split(\" \"), \"{} All's well that ends well {}\".format(START_TOKEN, END_TOKEN).split(\" \")]\n",
        "test_corpus_words, num_corpus_words = distinct_words(test_corpus)\n",
        "\n",
        "# Correct answers\n",
        "ans_test_corpus_words = sorted([START_TOKEN, \"All\", \"ends\", \"that\", \"gold\", \"All's\", \"glitters\", \"isn't\", \"well\", END_TOKEN])\n",
        "ans_num_corpus_words = len(ans_test_corpus_words)\n",
        "\n",
        "# Test correct number of words\n",
        "assert(num_corpus_words == ans_num_corpus_words), \"Incorrect number of distinct words. Correct: {}. Yours: {}\".format(ans_num_corpus_words, num_corpus_words)\n",
        "\n",
        "# Test correct words\n",
        "assert (test_corpus_words == ans_test_corpus_words), \"Incorrect corpus_words.\\nCorrect: {}\\nYours:   {}\".format(str(ans_test_corpus_words), str(test_corpus_words))\n",
        "\n",
        "# Print Success\n",
        "print (\"-\" * 80)\n",
        "print(\"Passed All Tests!\")\n",
        "print (\"-\" * 80)"
      ],
      "metadata": {
        "colab": {
          "base_uri": "https://localhost:8080/"
        },
        "id": "SgLIEkuNbTfR",
        "outputId": "b35b36c9-05bd-4875-a8c4-53676a79671a"
      },
      "execution_count": 6,
      "outputs": [
        {
          "output_type": "stream",
          "name": "stdout",
          "text": [
            "--------------------------------------------------------------------------------\n",
            "Passed All Tests!\n",
            "--------------------------------------------------------------------------------\n"
          ]
        }
      ]
    },
    {
      "cell_type": "code",
      "source": [
        "corpus = [['<START>', 'All', 'that', 'glitters', 'isn\\'t', 'gold', '<END>'], ['<START>', 'All\\'s', 'well', 'that', 'ends', 'well', '<END>']]\n",
        "words, n_words = distinct_words(corpus)\n",
        "window_size = 1\n",
        "M = None\n",
        "word2ind = {}\n",
        "cnt = 0\n",
        "M = np.zeros((n_words, n_words))\n",
        "for value in words:\n",
        "  word2ind[value] = cnt\n",
        "  cnt += 1\n",
        "print(words)\n",
        "print(word2ind)\n",
        "for lists in corpus:\n",
        "  print(lists)\n",
        "  for i, word in enumerate(lists):\n",
        "    if word == '<END>' or word == '<START>':\n",
        "      continue\n",
        "    if i == 1:\n",
        "      M[word2ind['<START>']][word2ind[word]]+=1\n",
        "      M[word2ind[word]][word2ind['<START>']]+=1\n",
        "\n",
        "    if i == len(lists)-2:\n",
        "      M[word2ind['<END>']][word2ind[word]]+=1\n",
        "      M[word2ind[word]][word2ind['<END>']]+=1\n",
        "\n",
        "    for ind in range(1, window_size+1):\n",
        "\n",
        "      if i-ind >= 1:\n",
        "        M[word2ind[word]][word2ind[lists[i-ind]]]+=1\n",
        "\n",
        "      if i+ind <= len(lists)-2:\n",
        "        M[word2ind[word]][word2ind[lists[i+ind]]]+=1\n",
        "print(M)"
      ],
      "metadata": {
        "colab": {
          "base_uri": "https://localhost:8080/"
        },
        "id": "Acuuz3hMTXzy",
        "outputId": "7fffadc4-756e-418d-8c07-94f6f9195860"
      },
      "execution_count": 7,
      "outputs": [
        {
          "output_type": "stream",
          "name": "stdout",
          "text": [
            "['<END>', '<START>', 'All', \"All's\", 'ends', 'glitters', 'gold', \"isn't\", 'that', 'well']\n",
            "{'<END>': 0, '<START>': 1, 'All': 2, \"All's\": 3, 'ends': 4, 'glitters': 5, 'gold': 6, \"isn't\": 7, 'that': 8, 'well': 9}\n",
            "['<START>', 'All', 'that', 'glitters', \"isn't\", 'gold', '<END>']\n",
            "['<START>', \"All's\", 'well', 'that', 'ends', 'well', '<END>']\n",
            "[[0. 0. 0. 0. 0. 0. 1. 0. 0. 1.]\n",
            " [0. 0. 1. 1. 0. 0. 0. 0. 0. 0.]\n",
            " [0. 1. 0. 0. 0. 0. 0. 0. 1. 0.]\n",
            " [0. 1. 0. 0. 0. 0. 0. 0. 0. 1.]\n",
            " [0. 0. 0. 0. 0. 0. 0. 0. 1. 1.]\n",
            " [0. 0. 0. 0. 0. 0. 0. 1. 1. 0.]\n",
            " [1. 0. 0. 0. 0. 0. 0. 1. 0. 0.]\n",
            " [0. 0. 0. 0. 0. 1. 1. 0. 0. 0.]\n",
            " [0. 0. 1. 0. 1. 1. 0. 0. 0. 1.]\n",
            " [1. 0. 0. 1. 1. 0. 0. 0. 1. 0.]]\n"
          ]
        }
      ]
    },
    {
      "cell_type": "code",
      "source": [
        "def compute_co_occurrence_matrix(corpus, window_size=4):\n",
        "    \"\"\" Compute co-occurrence matrix for the given corpus and window_size (default of 4).\n",
        "\n",
        "        Note: Each word in a document should be at the center of a window. Words near edges will have a smaller\n",
        "              number of co-occurring words.\n",
        "\n",
        "              For example, if we take the document \"<START> All that glitters is not gold <END>\" with window size of 4,\n",
        "              \"All\" will co-occur with \"<START>\", \"that\", \"glitters\", \"is\", and \"not\".\n",
        "\n",
        "        Params:\n",
        "            corpus (list of list of strings): corpus of documents\n",
        "            window_size (int): size of context window\n",
        "        Return:\n",
        "            M (a symmetric numpy matrix of shape (number of unique words in the corpus , number of unique words in the corpus)):\n",
        "                Co-occurence matrix of word counts.\n",
        "                The ordering of the words in the rows/columns should be the same as the ordering of the words given by the distinct_words function.\n",
        "            word2ind (dict): dictionary that maps word to index (i.e. row/column number) for matrix M.\n",
        "    \"\"\"\n",
        "    words, n_words = distinct_words(corpus)\n",
        "    M = None\n",
        "    word2ind = {}\n",
        "\n",
        "    # ------------------\n",
        "    # Write your implementation here.\n",
        "\n",
        "    cnt = 0\n",
        "    M = np.zeros((n_words, n_words))\n",
        "    for value in words:\n",
        "      word2ind[value] = cnt\n",
        "      cnt += 1\n",
        "\n",
        "    for lists in corpus:\n",
        "      for i, word in enumerate(lists):\n",
        "        if i==0 or i==len(lists)-1:\n",
        "          continue\n",
        "        if i == 1:\n",
        "          M[word2ind['<START>']][word2ind[word]]+=1\n",
        "          M[word2ind[word]][word2ind['<START>']]+=1\n",
        "\n",
        "        if i == len(lists)-2:\n",
        "          M[word2ind['<END>']][word2ind[word]]+=1\n",
        "          M[word2ind[word]][word2ind['<END>']]+=1\n",
        "\n",
        "        for ind in range(1, window_size+1):\n",
        "          if i-ind >= 1:\n",
        "            M[word2ind[word]][word2ind[lists[i-ind]]]+=1\n",
        "\n",
        "          if i+ind <= len(lists)-2:\n",
        "            M[word2ind[word]][word2ind[lists[i+ind]]]+=1\n",
        "\n",
        "    # ------------------\n",
        "\n",
        "    return M, word2ind"
      ],
      "metadata": {
        "id": "mRz4WgITnsFw"
      },
      "execution_count": 8,
      "outputs": []
    },
    {
      "cell_type": "code",
      "source": [
        "# ---------------------\n",
        "# Run this sanity check\n",
        "# Note that this is not an exhaustive check for correctness.\n",
        "# ---------------------\n",
        "\n",
        "# Define toy corpus and get student's co-occurrence matrix\n",
        "test_corpus = [\"{} All that glitters isn't gold {}\".format(START_TOKEN, END_TOKEN).split(\" \"), \"{} All's well that ends well {}\".format(START_TOKEN, END_TOKEN).split(\" \")]\n",
        "M_test, word2ind_test = compute_co_occurrence_matrix(test_corpus, window_size=1)\n",
        "\n",
        "# Correct M and word2ind\n",
        "M_test_ans = np.array(\n",
        "    [[0., 0., 0., 0., 0., 0., 1., 0., 0., 1.,],\n",
        "     [0., 0., 1., 1., 0., 0., 0., 0., 0., 0.,],\n",
        "     [0., 1., 0., 0., 0., 0., 0., 0., 1., 0.,],\n",
        "     [0., 1., 0., 0., 0., 0., 0., 0., 0., 1.,],\n",
        "     [0., 0., 0., 0., 0., 0., 0., 0., 1., 1.,],\n",
        "     [0., 0., 0., 0., 0., 0., 0., 1., 1., 0.,],\n",
        "     [1., 0., 0., 0., 0., 0., 0., 1., 0., 0.,],\n",
        "     [0., 0., 0., 0., 0., 1., 1., 0., 0., 0.,],\n",
        "     [0., 0., 1., 0., 1., 1., 0., 0., 0., 1.,],\n",
        "     [1., 0., 0., 1., 1., 0., 0., 0., 1., 0.,]]\n",
        ")\n",
        "ans_test_corpus_words = sorted([START_TOKEN, \"All\", \"ends\", \"that\", \"gold\", \"All's\", \"glitters\", \"isn't\", \"well\", END_TOKEN])\n",
        "word2ind_ans = dict(zip(ans_test_corpus_words, range(len(ans_test_corpus_words))))\n",
        "\n",
        "# Test correct word2ind\n",
        "assert (word2ind_ans == word2ind_test), \"Your word2ind is incorrect:\\nCorrect: {}\\nYours: {}\".format(word2ind_ans, word2ind_test)\n",
        "\n",
        "# Test correct M shape\n",
        "assert (M_test.shape == M_test_ans.shape), \"M matrix has incorrect shape.\\nCorrect: {}\\nYours: {}\".format(M_test.shape, M_test_ans.shape)\n",
        "\n",
        "# Test correct M values\n",
        "for w1 in word2ind_ans.keys():\n",
        "    idx1 = word2ind_ans[w1]\n",
        "    for w2 in word2ind_ans.keys():\n",
        "        idx2 = word2ind_ans[w2]\n",
        "        student = M_test[idx1, idx2]\n",
        "        correct = M_test_ans[idx1, idx2]\n",
        "        if student != correct:\n",
        "            print(\"Correct M:\")\n",
        "            print(M_test_ans)\n",
        "            print(\"Your M: \")\n",
        "            print(M_test)\n",
        "            raise AssertionError(\"Incorrect count at index ({}, {})=({}, {}) in matrix M. Yours has {} but should have {}.\".format(idx1, idx2, w1, w2, student, correct))\n",
        "\n",
        "# Print Success\n",
        "print (\"-\" * 80)\n",
        "print(\"Passed All Tests!\")\n",
        "print (\"-\" * 80)"
      ],
      "metadata": {
        "colab": {
          "base_uri": "https://localhost:8080/"
        },
        "id": "dw46yrEyl3u3",
        "outputId": "f08c4ce2-db7e-4ea2-ef1e-465dfdaf49a6"
      },
      "execution_count": 9,
      "outputs": [
        {
          "output_type": "stream",
          "name": "stdout",
          "text": [
            "--------------------------------------------------------------------------------\n",
            "Passed All Tests!\n",
            "--------------------------------------------------------------------------------\n"
          ]
        }
      ]
    },
    {
      "cell_type": "code",
      "source": [
        "def reduce_to_k_dim(M, k=2):\n",
        "    \"\"\" Reduce a co-occurence count matrix of dimensionality (num_corpus_words, num_corpus_words)\n",
        "        to a matrix of dimensionality (num_corpus_words, k) using the following SVD function from Scikit-Learn:\n",
        "            - http://scikit-learn.org/stable/modules/generated/sklearn.decomposition.TruncatedSVD.html\n",
        "\n",
        "        Params:\n",
        "            M (numpy matrix of shape (number of unique words in the corpus , number of unique words in the corpus)): co-occurence matrix of word counts\n",
        "            k (int): embedding size of each word after dimension reduction\n",
        "        Return:\n",
        "            M_reduced (numpy matrix of shape (number of corpus words, k)): matrix of k-dimensioal word embeddings.\n",
        "                    In terms of the SVD from math class, this actually returns U * S\n",
        "    \"\"\"\n",
        "    n_iters = 10     # Use this parameter in your call to `TruncatedSVD`\n",
        "    M_reduced = None\n",
        "    print(\"Running Truncated SVD over %i words...\" % (M.shape[0]))\n",
        "\n",
        "    # ------------------\n",
        "    # Write your implementation here.\n",
        "\n",
        "    svd = TruncatedSVD(n_components=k, n_iter=n_iters)\n",
        "    M_reduced = svd.fit_transform(M)\n",
        "\n",
        "    # ------------------\n",
        "\n",
        "    print(\"Done.\")\n",
        "    return M_reduced"
      ],
      "metadata": {
        "id": "KssEgKD8pC91"
      },
      "execution_count": 10,
      "outputs": []
    },
    {
      "cell_type": "code",
      "source": [
        "# ---------------------\n",
        "# Run this sanity check\n",
        "# Note that this is not an exhaustive check for correctness\n",
        "# In fact we only check that your M_reduced has the right dimensions.\n",
        "# ---------------------\n",
        "\n",
        "# Define toy corpus and run student code\n",
        "test_corpus = [\"{} All that glitters isn't gold {}\".format(START_TOKEN, END_TOKEN).split(\" \"), \"{} All's well that ends well {}\".format(START_TOKEN, END_TOKEN).split(\" \")]\n",
        "M_test, word2ind_test = compute_co_occurrence_matrix(test_corpus, window_size=1)\n",
        "M_test_reduced = reduce_to_k_dim(M_test, k=2)\n",
        "\n",
        "# Test proper dimensions\n",
        "assert (M_test_reduced.shape[0] == 10), \"M_reduced has {} rows; should have {}\".format(M_test_reduced.shape[0], 10)\n",
        "assert (M_test_reduced.shape[1] == 2), \"M_reduced has {} columns; should have {}\".format(M_test_reduced.shape[1], 2)\n",
        "\n",
        "# Print Success\n",
        "print (\"-\" * 80)\n",
        "print(\"Passed All Tests!\")\n",
        "print (\"-\" * 80)"
      ],
      "metadata": {
        "colab": {
          "base_uri": "https://localhost:8080/"
        },
        "id": "RRhB2G4ywNWq",
        "outputId": "0905689a-dc6b-499b-afa9-d9dbe223a3b6"
      },
      "execution_count": 11,
      "outputs": [
        {
          "output_type": "stream",
          "name": "stdout",
          "text": [
            "Running Truncated SVD over 10 words...\n",
            "Done.\n",
            "--------------------------------------------------------------------------------\n",
            "Passed All Tests!\n",
            "--------------------------------------------------------------------------------\n"
          ]
        }
      ]
    },
    {
      "cell_type": "code",
      "source": [
        "def plot_embeddings(M_reduced, word2ind, words):\n",
        "    \"\"\" Plot in a scatterplot the embeddings of the words specified in the list \"words\".\n",
        "        NOTE: do not plot all the words listed in M_reduced / word2ind.\n",
        "        Include a label next to each point.\n",
        "\n",
        "        Params:\n",
        "            M_reduced (numpy matrix of shape (number of unique words in the corpus , 2)): matrix of 2-dimensioal word embeddings\n",
        "            word2ind (dict): dictionary that maps word to indices for matrix M\n",
        "            words (list of strings): words whose embeddings we want to visualize\n",
        "    \"\"\"\n",
        "\n",
        "    # ------------------\n",
        "    # Write your implementation here.\n",
        "    for word in words:\n",
        "      ind = word2ind[word]\n",
        "      a = M_reduced[ind]\n",
        "      plt.scatter(a[0], a[1], marker='x', color='red')\n",
        "      plt.text(a[0], a[1], word, fontsize=9)\n",
        "\n",
        "    plt.show()\n",
        "\n",
        "    # ------------------"
      ],
      "metadata": {
        "id": "5U27ASjee4HN"
      },
      "execution_count": 12,
      "outputs": []
    },
    {
      "cell_type": "code",
      "source": [
        "# ---------------------\n",
        "# Run this sanity check\n",
        "# Note that this is not an exhaustive check for correctness.\n",
        "# The plot produced should look like the \"test solution plot\" depicted below.\n",
        "# ---------------------\n",
        "\n",
        "print (\"-\" * 80)\n",
        "print (\"Outputted Plot:\")\n",
        "\n",
        "M_reduced_plot_test = np.array([[1, 1], [-1, -1], [1, -1], [-1, 1], [0, 0]])\n",
        "word2ind_plot_test = {'test1': 0, 'test2': 1, 'test3': 2, 'test4': 3, 'test5': 4}\n",
        "words = ['test1', 'test2', 'test3', 'test4', 'test5']\n",
        "plot_embeddings(M_reduced_plot_test, word2ind_plot_test, words)\n",
        "\n",
        "print (\"-\" * 80)"
      ],
      "metadata": {
        "colab": {
          "base_uri": "https://localhost:8080/",
          "height": 392
        },
        "id": "VUFFuLQjhyd7",
        "outputId": "3396050f-9422-4c53-b9ee-1c4e33c4886c"
      },
      "execution_count": 13,
      "outputs": [
        {
          "output_type": "stream",
          "name": "stdout",
          "text": [
            "--------------------------------------------------------------------------------\n",
            "Outputted Plot:\n"
          ]
        },
        {
          "output_type": "display_data",
          "data": {
            "text/plain": [
              "<Figure size 1000x500 with 1 Axes>"
            ],
            "image/png": "[encoded data removed]"
          },
          "metadata": {}
        },
        {
          "output_type": "stream",
          "name": "stdout",
          "text": [
            "--------------------------------------------------------------------------------\n"
          ]
        }
      ]
    },
    {
      "cell_type": "code",
      "source": [
        "# -----------------------------\n",
        "# Run This Cell to Produce Your Plot\n",
        "# ------------------------------\n",
        "reuters_corpus = read_corpus()\n",
        "M_co_occurrence, word2ind_co_occurrence = compute_co_occurrence_matrix(reuters_corpus)\n",
        "M_reduced_co_occurrence = reduce_to_k_dim(M_co_occurrence, k=2)\n",
        "\n",
        "# Rescale (normalize) the rows to make them each of unit-length\n",
        "M_lengths = np.linalg.norm(M_reduced_co_occurrence, axis=1)\n",
        "M_normalized = M_reduced_co_occurrence / M_lengths[:, np.newaxis] # broadcasting\n",
        "\n",
        "words = ['tonnes', 'grain', 'wheat',  'agriculture', 'corn', 'maize', 'export', 'department', 'barley', 'grains', 'soybeans', 'sorghum']\n",
        "\n",
        "plot_embeddings(M_normalized, word2ind_co_occurrence, words)"
      ],
      "metadata": {
        "colab": {
          "base_uri": "https://localhost:8080/",
          "height": 378
        },
        "id": "tbVB4eVRidwq",
        "outputId": "2c70b0d2-6c15-45a7-a8f0-3e2dc2f84de5"
      },
      "execution_count": 14,
      "outputs": [
        {
          "output_type": "stream",
          "name": "stdout",
          "text": [
            "Running Truncated SVD over 7146 words...\n",
            "Done.\n"
          ]
        },
        {
          "output_type": "display_data",
          "data": {
            "text/plain": [
              "<Figure size 1000x500 with 1 Axes>"
            ],
            "image/png": "[encoded data removed]"
          },
          "metadata": {}
        }
      ]
    },
    {
      "cell_type": "markdown",
      "source": [
        "Two cluster,i can observer(maize,barely),(gain,corn,sorghum),but all the agricultured words should beclosed together, and 'department' and 'export' can from another cluster."
      ],
      "metadata": {
        "id": "feV32S15mzSo"
      }
    },
    {
      "cell_type": "code",
      "source": [
        "def load_embedding_model():\n",
        "    \"\"\" Load GloVe Vectors\n",
        "        Return:\n",
        "            wv_from_bin: All 400000 embeddings, each lengh 200\n",
        "    \"\"\"\n",
        "    import gensim.downloader as api\n",
        "    wv_from_bin = api.load(\"glove-wiki-gigaword-200\")\n",
        "    print(\"Loaded vocab size %i\" % len(list(wv_from_bin.index_to_key)))\n",
        "    return wv_from_bin"
      ],
      "metadata": {
        "id": "Q_A4x3GcwOHc"
      },
      "execution_count": 15,
      "outputs": []
    },
    {
      "cell_type": "code",
      "source": [
        "# -----------------------------------\n",
        "# Run Cell to Load Word Vectors\n",
        "# Note: This will take a couple minutes\n",
        "# -----------------------------------\n",
        "wv_from_bin = load_embedding_model()"
      ],
      "metadata": {
        "colab": {
          "base_uri": "https://localhost:8080/"
        },
        "id": "nk2KRg9u0YvM",
        "outputId": "2e796b04-4f4f-4d49-b097-dcf779bf9d84"
      },
      "execution_count": 16,
      "outputs": [
        {
          "output_type": "stream",
          "name": "stdout",
          "text": [
            "[==================================================] 100.0% 252.1/252.1MB downloaded\n",
            "Loaded vocab size 400000\n"
          ]
        }
      ]
    },
    {
      "cell_type": "code",
      "source": [
        "def get_matrix_of_vectors(wv_from_bin, required_words=['tonnes', 'grain', 'wheat',  'agriculture', 'corn', 'maize', 'export', 'department', 'barley', 'grains', 'soybeans', 'sorghum']):\n",
        "    \"\"\" Put the GloVe vectors into a matrix M.\n",
        "        Param:\n",
        "            wv_from_bin: KeyedVectors object; the 400000 GloVe vectors loaded from file\n",
        "        Return:\n",
        "            M: numpy matrix shape (num words, 200) containing the vectors\n",
        "            word2ind: dictionary mapping each word to its row number in M\n",
        "    \"\"\"\n",
        "    import random\n",
        "    words = list(wv_from_bin.index_to_key)\n",
        "    print(\"Shuffling words ...\")\n",
        "    random.seed(225)\n",
        "    random.shuffle(words)\n",
        "    words = words[:10000]\n",
        "    print(\"Putting %i words into word2ind and matrix M...\" % len(words))\n",
        "    word2ind = {}\n",
        "    M = []\n",
        "    curInd = 0\n",
        "    for w in words:\n",
        "        try:\n",
        "            M.append(wv_from_bin.get_vector(w))\n",
        "            word2ind[w] = curInd\n",
        "            curInd += 1\n",
        "        except KeyError:\n",
        "            continue\n",
        "    for w in required_words:\n",
        "        if w in words:\n",
        "            continue\n",
        "        try:\n",
        "            M.append(wv_from_bin.get_vector(w))\n",
        "            word2ind[w] = curInd\n",
        "            curInd += 1\n",
        "        except KeyError:\n",
        "            continue\n",
        "    M = np.stack(M)\n",
        "    print(\"Done.\")\n",
        "    return M, word2ind"
      ],
      "metadata": {
        "id": "bH5RWvA00axb"
      },
      "execution_count": 17,
      "outputs": []
    },
    {
      "cell_type": "code",
      "source": [
        "# -----------------------------------------------------------------\n",
        "# Run Cell to Reduce 200-Dimensional Word Embeddings to k Dimensions\n",
        "# Note: This should be quick to run\n",
        "# -----------------------------------------------------------------\n",
        "M, word2ind = get_matrix_of_vectors(wv_from_bin)\n",
        "M_reduced = reduce_to_k_dim(M, k=2)\n",
        "\n",
        "# Rescale (normalize) the rows to make them each of unit-length\n",
        "M_lengths = np.linalg.norm(M_reduced, axis=1)\n",
        "M_reduced_normalized = M_reduced / M_lengths[:, np.newaxis] # broadcasting"
      ],
      "metadata": {
        "colab": {
          "base_uri": "https://localhost:8080/"
        },
        "id": "pb0MLlMvspvo",
        "outputId": "04419508-b3f7-4b64-e5ba-e909327fa427"
      },
      "execution_count": 18,
      "outputs": [
        {
          "output_type": "stream",
          "name": "stdout",
          "text": [
            "Shuffling words ...\n",
            "Putting 10000 words into word2ind and matrix M...\n",
            "Done.\n",
            "Running Truncated SVD over 10012 words...\n",
            "Done.\n"
          ]
        }
      ]
    },
    {
      "cell_type": "code",
      "source": [
        "words = ['tonnes', 'grain', 'wheat',  'agriculture', 'corn', 'maize', 'export', 'department', 'barley', 'grains', 'soybeans', 'sorghum']\n",
        "plot_embeddings(M_reduced_normalized, word2ind, words)"
      ],
      "metadata": {
        "colab": {
          "base_uri": "https://localhost:8080/",
          "height": 327
        },
        "id": "DKih3KZbstYg",
        "outputId": "095a889e-17ce-4bfe-a1bc-d6b7703364df"
      },
      "execution_count": 19,
      "outputs": [
        {
          "output_type": "display_data",
          "data": {
            "text/plain": [
              "<Figure size 1000x500 with 1 Axes>"
            ],
            "image/png": "[encoded data removed]"
          },
          "metadata": {}
        }
      ]
    },
    {
      "cell_type": "markdown",
      "source": [
        "Here also,there are two tight clusters(wheat,corn,export),(grains,tonnes,maize,soybeans),rest are scattered.This is quite different from what we observed in co-occurence based word embeddings.The reason for this  difference could be the size of the corpus on which GloVe embeddings are trained."
      ],
      "metadata": {
        "id": "ZNPkYX3stCrQ"
      }
    },
    {
      "cell_type": "code",
      "source": [],
      "metadata": {
        "id": "W7z8KocHs9lR"
      },
      "execution_count": 19,
      "outputs": []
    },
    {
      "cell_type": "markdown",
      "source": [
        "Cosine Simolarity(余弦相似度)"
      ],
      "metadata": {
        "id": "excUzETiwVkb"
      }
    },
    {
      "cell_type": "markdown",
      "source": [
        "Now that we have word vectors, we need a way to quantify the similarity between individual words, according to these vectors. One such metric is cosine-similarity. We will be using this to find words that are \"close\" and \"far\" from one another."
      ],
      "metadata": {
        "id": "BrARprz1x7J2"
      }
    },
    {
      "cell_type": "code",
      "source": [
        "# ------------------\n",
        "# Write your implementation here.\n",
        "\n",
        "words = ['beer', 'house', 'china', 'tree']\n",
        "for word in words:\n",
        "  print('word = ', word)\n",
        "  pprint.pprint(wv_from_bin.most_similar(word))\n",
        "\n",
        "# ------------------"
      ],
      "metadata": {
        "colab": {
          "base_uri": "https://localhost:8080/"
        },
        "id": "PVihUGYD1Cr2",
        "outputId": "a75cb1de-da80-4956-e5c1-7022de0cef55"
      },
      "execution_count": 20,
      "outputs": [
        {
          "output_type": "stream",
          "name": "stdout",
          "text": [
            "word =  beer\n",
            "[('drink', 0.7326474785804749),\n",
            " ('drinks', 0.7114081382751465),\n",
            " ('liquor', 0.6575121879577637),\n",
            " ('beers', 0.6534110903739929),\n",
            " ('beverage', 0.6375210881233215),\n",
            " ('bottles', 0.6363894939422607),\n",
            " ('wine', 0.635413646697998),\n",
            " ('bottle', 0.6136217713356018),\n",
            " ('brewery', 0.6091495156288147),\n",
            " ('beverages', 0.6087833046913147)]\n",
            "word =  house\n",
            "[('houses', 0.679559051990509),\n",
            " ('senate', 0.6694664359092712),\n",
            " ('office', 0.6323703527450562),\n",
            " ('congressional', 0.6080436110496521),\n",
            " ('room', 0.606050431728363),\n",
            " ('building', 0.6041929721832275),\n",
            " ('capitol', 0.6000953912734985),\n",
            " ('congress', 0.5921366214752197),\n",
            " ('republicans', 0.5810678601264954),\n",
            " ('home', 0.5763988494873047)]\n",
            "word =  china\n",
            "[('chinese', 0.8248451352119446),\n",
            " ('beijing', 0.7936524748802185),\n",
            " ('taiwan', 0.7379320859909058),\n",
            " ('shanghai', 0.6786543130874634),\n",
            " ('mainland', 0.6734353303909302),\n",
            " ('hong', 0.655049204826355),\n",
            " ('guangdong', 0.6501193642616272),\n",
            " ('japan', 0.6291959285736084),\n",
            " ('kong', 0.6240850687026978),\n",
            " ('li', 0.6222866773605347)]\n",
            "word =  tree\n",
            "[('trees', 0.8477843403816223),\n",
            " ('pine', 0.5994371771812439),\n",
            " ('oak', 0.5594418048858643),\n",
            " ('shrubs', 0.5459595322608948),\n",
            " ('garden', 0.5364236831665039),\n",
            " ('banyan', 0.5306581258773804),\n",
            " ('planted', 0.527728259563446),\n",
            " ('bushes', 0.5274531245231628),\n",
            " ('forest', 0.5195294618606567),\n",
            " ('cedar', 0.508104145526886)]\n"
          ]
        }
      ]
    },
    {
      "cell_type": "markdown",
      "source": [
        "i have tried for ['beer', 'house', 'china', 'tree'] words. For some words like 'house' and 'china' the top 10 meanings represent multiple meaning.For words, 'tree', 'house' one meaing is dominatingly present in the top 10 results\n",
        "The reasons for this could be distribution of meaning and senses in the corpus on which the glove is trained."
      ],
      "metadata": {
        "id": "fYlsPDOk6itK"
      }
    },
    {
      "cell_type": "code",
      "source": [
        "# ------------------\n",
        "# Write your implementation here.\n",
        "\n",
        "w1 = 'big'\n",
        "w2 = 'gigantic'\n",
        "w3 = 'tiny'\n",
        "\n",
        "print('Distance(\\'{}\\', \\'{}\\')='.format(w1, w2), wv_from_bin.distance(w1, w2))\n",
        "print('Distance(\\'{}\\', \\'{}\\')='.format(w1, w3), wv_from_bin.distance(w1, w3))\n",
        "\n",
        "print()\n",
        "\n",
        "w1 = 'hot'\n",
        "w2 = 'parched'\n",
        "w3 = 'cold'\n",
        "\n",
        "print('Distance(\\'{}\\', \\'{}\\')='.format(w1, w2), wv_from_bin.distance(w1, w2))\n",
        "print('Distance(\\'{}\\', \\'{}\\')='.format(w1, w3), wv_from_bin.distance(w1, w3))\n",
        "\n",
        "# ------------------"
      ],
      "metadata": {
        "colab": {
          "base_uri": "https://localhost:8080/"
        },
        "id": "YUTFk5bG3BOl",
        "outputId": "07c41a26-1987-43f4-8af6-29d143af4071"
      },
      "execution_count": 21,
      "outputs": [
        {
          "output_type": "stream",
          "name": "stdout",
          "text": [
            "Distance('big', 'gigantic')= 0.5054686367511749\n",
            "Distance('big', 'tiny')= 0.571981281042099\n",
            "\n",
            "Distance('hot', 'parched')= 0.756472185254097\n",
            "Distance('hot', 'cold')= 0.40621882677078247\n"
          ]
        }
      ]
    },
    {
      "cell_type": "markdown",
      "source": [
        "I found tree such triplets(big, gigantic,tiny)(hot,parched,cold).But the first triplet did not meet my expections. The (big, gigantic) cosine silmilarity is less than (big, tiny). And the second triplet was all right.From my point of view, this unexpected exhibition that the antonym pairs such as (big, tiny) are frequent in sililar context in the corpus than the possible synonym pair (big, gigatic)"
      ],
      "metadata": {
        "id": "Okdkhqxd9uBR"
      }
    },
    {
      "cell_type": "code",
      "source": [
        "# Run this cell to answer the analogy -- man : grandfather :: woman : x\n",
        "pprint.pprint(wv_from_bin.most_similar(positive=['woman', 'grandfather'], negative=['man']))"
      ],
      "metadata": {
        "colab": {
          "base_uri": "https://localhost:8080/"
        },
        "id": "w-iFbE4f9LHM",
        "outputId": "a3345157-a5df-4ea0-cb78-86716419af25"
      },
      "execution_count": 22,
      "outputs": [
        {
          "output_type": "stream",
          "name": "stdout",
          "text": [
            "[('grandmother', 0.7608445286750793),\n",
            " ('granddaughter', 0.7200808525085449),\n",
            " ('daughter', 0.7168302536010742),\n",
            " ('mother', 0.7151536345481873),\n",
            " ('niece', 0.7005682587623596),\n",
            " ('father', 0.6659887433052063),\n",
            " ('aunt', 0.6623408794403076),\n",
            " ('grandson', 0.6618767976760864),\n",
            " ('grandparents', 0.644661009311676),\n",
            " ('wife', 0.6445354223251343)]\n"
          ]
        }
      ]
    },
    {
      "cell_type": "markdown",
      "source": [
        "x = g+(w-m)"
      ],
      "metadata": {
        "id": "VYOrOcQh_PeS"
      }
    },
    {
      "cell_type": "code",
      "source": [
        "pprint.pprint(wv_from_bin.most_similar(positive=['woman', 'prince'], negative=['man']))\n",
        "\n",
        "print()\n",
        "\n",
        "pprint.pprint(wv_from_bin.most_similar(positive=['band', 'movie'], negative=['actor']))"
      ],
      "metadata": {
        "colab": {
          "base_uri": "https://localhost:8080/"
        },
        "id": "dzoXWSmd_HPP",
        "outputId": "74aa4735-ad8d-4bdd-de95-a43c9139df93"
      },
      "execution_count": 24,
      "outputs": [
        {
          "output_type": "stream",
          "name": "stdout",
          "text": [
            "[('princess', 0.7453499436378479),\n",
            " ('duchess', 0.6067375540733337),\n",
            " ('daughter', 0.5600141882896423),\n",
            " ('queen', 0.5452842712402344),\n",
            " ('hrh', 0.5299034118652344),\n",
            " ('wife', 0.511596143245697),\n",
            " ('marry', 0.5082696676254272),\n",
            " ('naruhito', 0.5037658214569092),\n",
            " ('mistress', 0.5026963353157043),\n",
            " ('crown', 0.49816757440567017)]\n",
            "\n",
            "[('album', 0.6973601579666138),\n",
            " ('bands', 0.6667339205741882),\n",
            " ('song', 0.6096614003181458),\n",
            " ('albums', 0.6091905236244202),\n",
            " ('songs', 0.6051977276802063),\n",
            " ('compilation', 0.5955536365509033),\n",
            " ('ep', 0.5948136448860168),\n",
            " ('rock', 0.5795069336891174),\n",
            " ('soundtrack', 0.5739437341690063),\n",
            " ('music', 0.5692933797836304)]\n"
          ]
        }
      ]
    },
    {
      "cell_type": "markdown",
      "source": [
        "man:prince::woman:princess\n",
        "\n",
        "> 缩进块\n",
        "\n",
        "actor:movie::band:album"
      ],
      "metadata": {
        "id": "0nLm6y5aE5CH"
      }
    },
    {
      "cell_type": "code",
      "source": [
        "pprint.pprint(wv_from_bin.most_similar(positive=['movie', 'magazine'], negative=['editor']))"
      ],
      "metadata": {
        "id": "LzM3tgbuDS4i",
        "colab": {
          "base_uri": "https://localhost:8080/"
        },
        "outputId": "8af2b71f-12ac-4fcb-bb43-252c16bbddc8"
      },
      "execution_count": 25,
      "outputs": [
        {
          "output_type": "stream",
          "name": "stdout",
          "text": [
            "[('movies', 0.7337396144866943),\n",
            " ('film', 0.7336824536323547),\n",
            " ('films', 0.7069437503814697),\n",
            " ('comedy', 0.6201825141906738),\n",
            " ('sequel', 0.6178272366523743),\n",
            " ('hollywood', 0.6076249480247498),\n",
            " ('remake', 0.5936723947525024),\n",
            " ('blockbuster', 0.5882182121276855),\n",
            " ('video', 0.5858933925628662),\n",
            " ('animated', 0.5736064314842224)]\n"
          ]
        }
      ]
    },
    {
      "cell_type": "markdown",
      "source": [
        "Expecting --> editor:magazine::director:movie\n",
        "\n",
        "Obtained --> editor:magazine::movies:movie"
      ],
      "metadata": {
        "id": "3hnAanJ88DVw"
      }
    },
    {
      "cell_type": "code",
      "source": [
        "# Run this cell\n",
        "# Here `positive` indicates the list of words to be similar to and `negative` indicates the list of words to be\n",
        "# most dissimilar from.\n",
        "pprint.pprint(wv_from_bin.most_similar(positive=['girl', 'toy'], negative=['boy']))\n",
        "print()\n",
        "pprint.pprint(wv_from_bin.most_similar(positive=['boy', 'toy'], negative=['girl']))"
      ],
      "metadata": {
        "colab": {
          "base_uri": "https://localhost:8080/"
        },
        "id": "sYL3Rwgq8AZ6",
        "outputId": "e26db269-a8a6-4f4e-a1af-edc480a07cc0"
      },
      "execution_count": 26,
      "outputs": [
        {
          "output_type": "stream",
          "name": "stdout",
          "text": [
            "[('toys', 0.7094953060150146),\n",
            " ('doll', 0.5932914614677429),\n",
            " ('dolls', 0.570662260055542),\n",
            " ('barbie', 0.5407706499099731),\n",
            " ('mattel', 0.5328551530838013),\n",
            " ('accessories', 0.5206909775733948),\n",
            " ('hasbro', 0.49227219820022583),\n",
            " ('jewelry', 0.47385692596435547),\n",
            " ('lego', 0.4690813422203064),\n",
            " ('apparel', 0.46136239171028137)]\n",
            "\n",
            "[('toys', 0.71570885181427),\n",
            " ('hasbro', 0.5164632797241211),\n",
            " ('robot', 0.47317108511924744),\n",
            " ('pet', 0.4670490324497223),\n",
            " ('manufacturer', 0.4668163061141968),\n",
            " ('mattel', 0.4582391679286957),\n",
            " ('lego', 0.45811763405799866),\n",
            " ('miniature', 0.4441472291946411),\n",
            " ('makers', 0.44298243522644043),\n",
            " ('manufactured', 0.44275349378585815)]\n"
          ]
        }
      ]
    },
    {
      "cell_type": "markdown",
      "source": [
        "With the above example, it is clear that word-vectors are also influenced by the various kinds of biases. In the first exmaple, specific types of toys are associated with girl, eg. doll, dolls, barbie, jewelry, apparel which do not shows meaning of 'boy' and 'toy'.In contrary, the 2nd example shows meaning such as 'hasbro', 'robot', 'lego', 'miniature' which do get meaning of word-vectors. Additionally, the meaning words, i.e.'makers', 'manufacturer' only associated with boy which reflects the zender bias that only male are associated to such sectors."
      ],
      "metadata": {
        "id": "k63nm_he8j77"
      }
    },
    {
      "cell_type": "code",
      "source": [
        "# ------------------\n",
        "# Write your implementation here.\n",
        "print('man : worker :: woman : x')\n",
        "pprint.pprint(wv_from_bin.most_similar(positive=['woman', 'worker'], negative=['man']))\n",
        "print()\n",
        "print('woman : worker :: man : x')\n",
        "pprint.pprint(wv_from_bin.most_similar(positive=['man', 'worker'], negative=['woman']))\n",
        "\n",
        "# ------------------"
      ],
      "metadata": {
        "colab": {
          "base_uri": "https://localhost:8080/"
        },
        "id": "WO9t6ZGC8cJV",
        "outputId": "1003f4d4-6fe5-4db5-ffb7-ec08c55e6571"
      },
      "execution_count": 31,
      "outputs": [
        {
          "output_type": "stream",
          "name": "stdout",
          "text": [
            "man : worker :: woman : x\n",
            "[('employee', 0.6375863552093506),\n",
            " ('workers', 0.6068920493125916),\n",
            " ('nurse', 0.5837947130203247),\n",
            " ('pregnant', 0.5363885164260864),\n",
            " ('mother', 0.5321308970451355),\n",
            " ('employer', 0.5127025842666626),\n",
            " ('teacher', 0.5099576711654663),\n",
            " ('child', 0.5096741318702698),\n",
            " ('homemaker', 0.5019454956054688),\n",
            " ('nurses', 0.4970572590827942)]\n",
            "\n",
            "woman : worker :: man : x\n",
            "[('workers', 0.611325740814209),\n",
            " ('employee', 0.5983108878135681),\n",
            " ('working', 0.5615329742431641),\n",
            " ('laborer', 0.5442320108413696),\n",
            " ('unemployed', 0.536851704120636),\n",
            " ('job', 0.5278826355934143),\n",
            " ('work', 0.5223963856697083),\n",
            " ('mechanic', 0.5088937282562256),\n",
            " ('worked', 0.5054520964622498),\n",
            " ('factory', 0.4940454363822937)]\n"
          ]
        }
      ]
    },
    {
      "cell_type": "markdown",
      "source": [
        "Comparing the 'man:worker::woman:x' with 'woman:worker::man:x', there clearly visible some female-associated occupations do not show up in the male-associated list, such as, 'nurse(s)', 'teacher'.This may be caused by the statistical nature of the model trained on a general corpora. But his reflects the gender bias of the model that it has a stereotype tht these occupations are more related to females but not males.\n",
        "\n",
        "Moreover, in the list there are some distinctive words like 'pregant', 'homemaker', 'child' only assocated to female. It shows anothe stereotype, that woman are only 'meant for housework'. This is very danferous for as it enhances the employment discriminator for women."
      ],
      "metadata": {
        "id": "lifQqhwn_4Qh"
      }
    },
    {
      "cell_type": "code",
      "source": [],
      "metadata": {
        "id": "gae-2Q50_NB4"
      },
      "execution_count": null,
      "outputs": []
    },
    {
      "cell_type": "markdown",
      "source": [
        "As the statistical models are only the reflection/abstraction of the data on which they are trained. Since, the bias exists in the real life, it gets into the corpus also we lollect in a real-world scenario, e.g. Internet, social text. This leads to a biased model.\n",
        "\n",
        "There are many possible biases in the model. To capture one, we have redesigned the corpus by carefully flitering out a specific bias from the data.Then the new model trained on new corpus can be compared with the previous one. This experiment could be hard though, since manually removing biased contents fro the huge training data is time consuming."
      ],
      "metadata": {
        "id": "at7yuxrjBqLx"
      }
    }
  ]
}